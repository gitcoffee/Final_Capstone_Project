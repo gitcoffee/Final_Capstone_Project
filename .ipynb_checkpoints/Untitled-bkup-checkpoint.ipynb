{
 "cells": [
  {
   "cell_type": "code",
   "execution_count": 10,
   "id": "986fc204-42a4-47c4-8c1a-65da88712d85",
   "metadata": {},
   "outputs": [
    {
     "data": {
      "text/html": [
       "<div>\n",
       "<style scoped>\n",
       "    .dataframe tbody tr th:only-of-type {\n",
       "        vertical-align: middle;\n",
       "    }\n",
       "\n",
       "    .dataframe tbody tr th {\n",
       "        vertical-align: top;\n",
       "    }\n",
       "\n",
       "    .dataframe thead th {\n",
       "        text-align: right;\n",
       "    }\n",
       "</style>\n",
       "<table border=\"1\" class=\"dataframe\">\n",
       "  <thead>\n",
       "    <tr style=\"text-align: right;\">\n",
       "      <th></th>\n",
       "      <th>title</th>\n",
       "      <th>body</th>\n",
       "      <th>ticket_type</th>\n",
       "      <th>category</th>\n",
       "      <th>sub_category1</th>\n",
       "      <th>sub_category2</th>\n",
       "      <th>business_service</th>\n",
       "      <th>urgency</th>\n",
       "      <th>impact</th>\n",
       "    </tr>\n",
       "  </thead>\n",
       "  <tbody>\n",
       "    <tr>\n",
       "      <th>0</th>\n",
       "      <td>NaN</td>\n",
       "      <td>hi since recruiter lead permission approve req...</td>\n",
       "      <td>1</td>\n",
       "      <td>4</td>\n",
       "      <td>2</td>\n",
       "      <td>21</td>\n",
       "      <td>71</td>\n",
       "      <td>3</td>\n",
       "      <td>4</td>\n",
       "    </tr>\n",
       "    <tr>\n",
       "      <th>1</th>\n",
       "      <td>connection with icon</td>\n",
       "      <td>icon dear please setup icon per icon engineers...</td>\n",
       "      <td>1</td>\n",
       "      <td>6</td>\n",
       "      <td>22</td>\n",
       "      <td>7</td>\n",
       "      <td>26</td>\n",
       "      <td>3</td>\n",
       "      <td>4</td>\n",
       "    </tr>\n",
       "    <tr>\n",
       "      <th>2</th>\n",
       "      <td>work experience user</td>\n",
       "      <td>work experience user hi work experience studen...</td>\n",
       "      <td>1</td>\n",
       "      <td>5</td>\n",
       "      <td>13</td>\n",
       "      <td>7</td>\n",
       "      <td>32</td>\n",
       "      <td>3</td>\n",
       "      <td>4</td>\n",
       "    </tr>\n",
       "    <tr>\n",
       "      <th>3</th>\n",
       "      <td>requesting for meeting</td>\n",
       "      <td>requesting meeting hi please help follow equip...</td>\n",
       "      <td>1</td>\n",
       "      <td>5</td>\n",
       "      <td>13</td>\n",
       "      <td>7</td>\n",
       "      <td>32</td>\n",
       "      <td>3</td>\n",
       "      <td>4</td>\n",
       "    </tr>\n",
       "    <tr>\n",
       "      <th>4</th>\n",
       "      <td>reset passwords for external accounts</td>\n",
       "      <td>re expire days hi ask help update passwords co...</td>\n",
       "      <td>1</td>\n",
       "      <td>4</td>\n",
       "      <td>2</td>\n",
       "      <td>76</td>\n",
       "      <td>4</td>\n",
       "      <td>3</td>\n",
       "      <td>4</td>\n",
       "    </tr>\n",
       "  </tbody>\n",
       "</table>\n",
       "</div>"
      ],
      "text/plain": [
       "                                   title  \\\n",
       "0                                    NaN   \n",
       "1                   connection with icon   \n",
       "2                   work experience user   \n",
       "3                 requesting for meeting   \n",
       "4  reset passwords for external accounts   \n",
       "\n",
       "                                                body  ticket_type  category  \\\n",
       "0  hi since recruiter lead permission approve req...            1         4   \n",
       "1  icon dear please setup icon per icon engineers...            1         6   \n",
       "2  work experience user hi work experience studen...            1         5   \n",
       "3  requesting meeting hi please help follow equip...            1         5   \n",
       "4  re expire days hi ask help update passwords co...            1         4   \n",
       "\n",
       "   sub_category1  sub_category2  business_service  urgency  impact  \n",
       "0              2             21                71        3       4  \n",
       "1             22              7                26        3       4  \n",
       "2             13              7                32        3       4  \n",
       "3             13              7                32        3       4  \n",
       "4              2             76                 4        3       4  "
      ]
     },
     "execution_count": 10,
     "metadata": {},
     "output_type": "execute_result"
    }
   ],
   "source": [
    "import pandas as pd\n",
    "\n",
    "# Cargar el archivo CSV proporcionado por el usuario\n",
    "file_path = \"all_tickets.csv\"\n",
    "\n",
    "# Leer el archivo para exploración inicial\n",
    "tickets_data = pd.read_csv(file_path)\n",
    "\n",
    "# Mostrar las primeras filas del dataset para revisar su estructura\n",
    "tickets_data.head()\n"
   ]
  },
  {
   "cell_type": "code",
   "execution_count": 11,
   "id": "4a03df91-d78f-43ab-b306-ef45c9050fc2",
   "metadata": {
    "scrolled": true
   },
   "outputs": [
    {
     "name": "stdout",
     "output_type": "stream",
     "text": [
      "title               712\n",
      "body                  0\n",
      "ticket_type           0\n",
      "category              0\n",
      "sub_category1         0\n",
      "sub_category2         0\n",
      "business_service      0\n",
      "urgency               0\n",
      "impact                0\n",
      "dtype: int64\n",
      "Valores nulos en 'text': 0\n"
     ]
    }
   ],
   "source": [
    "import pandas as pd\n",
    "\n",
    "\n",
    "# Verifica los valores nulos\n",
    "print(tickets_data.isnull().sum())\n",
    "\n",
    "# Combina 'title' y 'body' en una nueva columna 'text'\n",
    "tickets_data['text'] = tickets_data['title'].fillna('') + \" \" + tickets_data['body'].fillna('')\n",
    "\n",
    "# Verifica que 'text' no tenga valores nulos\n",
    "print(f\"Valores nulos en 'text': {tickets_data['text'].isnull().sum()}\")\n"
   ]
  },
  {
   "cell_type": "code",
   "execution_count": 12,
   "id": "9485af6e-8536-44a1-a089-03e0a05af2e4",
   "metadata": {},
   "outputs": [
    {
     "name": "stdout",
     "output_type": "stream",
     "text": [
      "category\n",
      "4     34061\n",
      "5      9634\n",
      "6      2628\n",
      "7       921\n",
      "11      612\n",
      "8       239\n",
      "9       191\n",
      "3       137\n",
      "1        72\n",
      "12       45\n",
      "0         4\n",
      "2         3\n",
      "10        2\n",
      "Name: count, dtype: int64\n",
      "count    48549.000000\n",
      "mean       290.619271\n",
      "std        387.195369\n",
      "min          6.000000\n",
      "25%        109.000000\n",
      "50%        174.000000\n",
      "75%        303.000000\n",
      "max       7015.000000\n",
      "Name: text_length, dtype: float64\n"
     ]
    }
   ],
   "source": [
    "# Distribución de categorías\n",
    "print(tickets_data['category'].value_counts())\n",
    "\n",
    "# Longitudes del texto\n",
    "tickets_data['text_length'] = tickets_data['text'].apply(len)\n",
    "print(tickets_data['text_length'].describe())\n"
   ]
  },
  {
   "cell_type": "code",
   "execution_count": 13,
   "id": "ad83f0cd-4ec5-4af8-8840-32da8de5d5a1",
   "metadata": {},
   "outputs": [],
   "source": [
    "tickets_data.to_csv(\"all_tickets_cleaned.csv\", index=False)\n"
   ]
  },
  {
   "cell_type": "code",
   "execution_count": 18,
   "id": "6723af68-d39f-4169-9864-9a2be855ba73",
   "metadata": {},
   "outputs": [
    {
     "name": "stdout",
     "output_type": "stream",
     "text": [
      "Datos preprocesados y balanceados listos para el modelado.\n"
     ]
    }
   ],
   "source": [
    "import pandas as pd\n",
    "from sklearn.feature_extraction.text import TfidfVectorizer\n",
    "from sklearn.model_selection import train_test_split\n",
    "from imblearn.over_sampling import SMOTE\n",
    "\n",
    "# 1. Carga de datos\n",
    "file_path = \"all_tickets_cleaned.csv\"\n",
    "tickets_data = pd.read_csv(file_path)\n",
    "\n",
    "# Combina 'title' y 'body' en una nueva columna 'text'\n",
    "tickets_data['text'] = tickets_data['title'].fillna('') + \" \" + tickets_data['body'].fillna('')\n",
    "\n",
    "# 2. Preprocesamiento del texto\n",
    "import re\n",
    "from nltk.corpus import stopwords\n",
    "from nltk.tokenize import word_tokenize\n",
    "\n",
    "# Asegúrate de descargar las stopwords y tokenizer de NLTK si no lo has hecho antes\n",
    "# import nltk\n",
    "# nltk.download('punkt')\n",
    "# nltk.download('stopwords')\n",
    "\n",
    "stop_words = set(stopwords.words('english'))\n",
    "\n",
    "\n",
    "\n",
    "\n",
    "# Asegúrate de haber creado la columna 'text' a partir de 'title' y 'body'\n",
    "tickets_data['text'] = tickets_data['title'].fillna('') + \" \" + tickets_data['body'].fillna('')\n",
    "\n",
    "# Preprocesamiento del texto\n",
    "def preprocess_text(text):\n",
    "    # Eliminar caracteres especiales y números\n",
    "    text = re.sub(r\"[^a-zA-Z]\", \" \", text)\n",
    "    # Convertir a minúsculas\n",
    "    text = text.lower()\n",
    "    # Tokenizar y eliminar stopwords\n",
    "    words = word_tokenize(text)\n",
    "    words = [word for word in words if word not in stop_words]\n",
    "    return \" \".join(words)\n",
    "\n",
    "# Crear la columna 'text_clean'\n",
    "tickets_data['text_clean'] = tickets_data['text'].apply(preprocess_text)\n",
    "\n",
    "# Ahora deberías tener la columna 'text_clean' disponible para la vectorización y el modelado\n",
    "\n",
    "\n",
    "\n",
    "# 3. Balanceo de clases con SMOTE (opcional)\n",
    "X = tickets_data['text_clean']\n",
    "y = tickets_data['category']\n",
    "\n",
    "# Vectorización con TF-IDF\n",
    "vectorizer = TfidfVectorizer(max_features=5000)\n",
    "X_tfidf = vectorizer.fit_transform(X)\n",
    "\n",
    "# Dividir en conjuntos de entrenamiento y prueba\n",
    "X_train, X_test, y_train, y_test = train_test_split(X_tfidf, y, test_size=0.2, random_state=42, stratify=y)\n",
    "\n",
    "# # Aplicar SMOTE al conjunto de entrenamiento\n",
    "# smote = SMOTE(random_state=42)\n",
    "# X_train_balanced, y_train_balanced = smote.fit_resample(X_train, y_train)\n",
    "\n",
    "\n",
    "from collections import Counter\n",
    "\n",
    "# Verificar el número de muestras por clase\n",
    "class_counts = Counter(y_train)\n",
    "min_class_size = min(class_counts.values())  # Tamaño de la clase más pequeña\n",
    "\n",
    "# Ajustar k_neighbors según el tamaño de la clase más pequeña\n",
    "k_neighbors = min(min_class_size - 1, 6)  # No más de 6 vecinos\n",
    "\n",
    "# Aplicar SMOTE al conjunto de entrenamiento con k_neighbors ajustado\n",
    "smote = SMOTE(random_state=42, k_neighbors=k_neighbors)\n",
    "X_train_balanced, y_train_balanced = smote.fit_resample(X_train, y_train)\n",
    "\n",
    "print(\"Datos preprocesados y balanceados listos para el modelado.\")\n",
    "\n"
   ]
  },
  {
   "cell_type": "code",
   "execution_count": 23,
   "id": "60aa0723-c29d-4664-9c4d-b428d47908cc",
   "metadata": {},
   "outputs": [
    {
     "name": "stderr",
     "output_type": "stream",
     "text": [
      "/tmp/ipykernel_43300/1416945811.py:48: FutureWarning: Setting an item of incompatible dtype is deprecated and will raise an error in a future version of pandas. Value 'Otros' has dtype incompatible with int64, please explicitly cast to a compatible dtype first.\n",
      "  tickets_data.loc[tickets_data['category'].isin(classes_to_reassign), 'category'] = 'Otros'\n"
     ]
    },
    {
     "name": "stdout",
     "output_type": "stream",
     "text": [
      "Métricas en el conjunto de validación:\n",
      "              precision    recall  f1-score   support\n",
      "\n",
      "           1       0.02      0.18      0.04        11\n",
      "          11       0.37      0.73      0.49        92\n",
      "          12       0.18      0.57      0.28         7\n",
      "           3       0.05      0.30      0.09        20\n",
      "           4       0.95      0.76      0.84      5109\n",
      "           5       0.81      0.69      0.75      1445\n",
      "           6       0.34      0.74      0.46       394\n",
      "           7       0.24      0.88      0.37       138\n",
      "           8       0.81      0.81      0.81        36\n",
      "           9       0.18      0.54      0.27        28\n",
      "       Otros       0.00      0.00      0.00         2\n",
      "\n",
      "    accuracy                           0.74      7282\n",
      "   macro avg       0.36      0.56      0.40      7282\n",
      "weighted avg       0.86      0.74      0.78      7282\n",
      "\n",
      "Matriz de Confusión (Validación):\n",
      "[[   2    0    0    0    8    0    1    0    0    0    0]\n",
      " [   0   67    0    0    9    3    3   10    0    0    0]\n",
      " [   0    0    4    0    2    0    1    0    0    0    0]\n",
      " [   0    0    0    6    5    7    1    0    0    0    1]\n",
      " [  79   67   15   59 3890  200  401  334    3   23   38]\n",
      " [   5   31    1   45  122  998  158   43    0   42    0]\n",
      " [   3    7    2    6   56   15  290    7    4    3    1]\n",
      " [   0   10    0    0    3    1    1  122    0    1    0]\n",
      " [   0    0    0    1    1    0    5    0   29    0    0]\n",
      " [   0    1    0    0    3    9    0    0    0   15    0]\n",
      " [   1    0    0    0    0    1    0    0    0    0    0]]\n",
      "Métricas en el conjunto de prueba:\n",
      "              precision    recall  f1-score   support\n",
      "\n",
      "           1       0.02      0.18      0.04        11\n",
      "          11       0.37      0.79      0.51        92\n",
      "          12       0.26      0.83      0.40         6\n",
      "           3       0.07      0.33      0.11        21\n",
      "           4       0.95      0.77      0.85      5110\n",
      "           5       0.82      0.69      0.75      1445\n",
      "           6       0.35      0.75      0.48       394\n",
      "           7       0.23      0.86      0.36       138\n",
      "           8       0.78      0.81      0.79        36\n",
      "           9       0.24      0.55      0.33        29\n",
      "       Otros       0.00      0.00      0.00         1\n",
      "\n",
      "    accuracy                           0.75      7283\n",
      "   macro avg       0.37      0.60      0.42      7283\n",
      "weighted avg       0.86      0.75      0.79      7283\n",
      "\n",
      "Matriz de Confusión (Prueba):\n",
      "[[   2    0    0    1    5    2    1    0    0    0    0]\n",
      " [   0   73    0    0    4    0    5   10    0    0    0]\n",
      " [   0    0    5    0    1    0    0    0    0    0    0]\n",
      " [   0    1    0    7    1    9    3    0    0    0    0]\n",
      " [  80   67   14   54 3950  178  391  328    6   13   29]\n",
      " [   4   36    0   41  142 1001  136   47    0   35    3]\n",
      " [   1   11    0    3   52   19  294    8    2    4    0]\n",
      " [   0    8    0    0   10    0    2  118    0    0    0]\n",
      " [   0    0    0    0    3    0    4    0   29    0    0]\n",
      " [   0    0    0    0    5    7    1    0    0   16    0]\n",
      " [   0    0    0    0    1    0    0    0    0    0    0]]\n",
      "Validación Cruzada (precisión promedio): 0.8307064368170402\n",
      "Precisión media de validación cruzada: 0.8307\n"
     ]
    }
   ],
   "source": [
    "import pandas as pd\n",
    "from sklearn.metrics import classification_report, confusion_matrix, accuracy_score\n",
    "from sklearn.naive_bayes import MultinomialNB\n",
    "from sklearn.model_selection import train_test_split, cross_val_score\n",
    "from collections import Counter\n",
    "import numpy as np\n",
    "\n",
    "# Cargar los datos preprocesados\n",
    "file_path = \"all_tickets_cleaned.csv\"\n",
    "tickets_data = pd.read_csv(file_path)\n",
    "\n",
    "# Combina 'title' y 'body' en una nueva columna 'text'\n",
    "tickets_data['text'] = tickets_data['title'].fillna('') + \" \" + tickets_data['body'].fillna('')\n",
    "\n",
    "# Asegúrate de que 'text_clean' se generó correctamente si no existía\n",
    "if 'text_clean' not in tickets_data.columns:\n",
    "    # Preprocesamiento del texto\n",
    "    import re\n",
    "    from nltk.corpus import stopwords\n",
    "    from nltk.tokenize import word_tokenize\n",
    "\n",
    "    stop_words = set(stopwords.words('english'))\n",
    "\n",
    "    def preprocess_text(text):\n",
    "        # Eliminar caracteres especiales y números\n",
    "        text = re.sub(r\"[^a-zA-Z]\", \" \", text)\n",
    "        # Convertir a minúsculas\n",
    "        text = text.lower()\n",
    "        # Tokenizar y eliminar stopwords\n",
    "        words = word_tokenize(text)\n",
    "        words = [word for word in words if word not in stop_words]\n",
    "        return \" \".join(words)\n",
    "\n",
    "    tickets_data['text_clean'] = tickets_data['text'].apply(preprocess_text)\n",
    "\n",
    "# Dividir en variables de características (X) y etiquetas (y)\n",
    "X = tickets_data['text_clean']\n",
    "y = tickets_data['category']\n",
    "\n",
    "# Vectorización con TF-IDF\n",
    "from sklearn.feature_extraction.text import TfidfVectorizer\n",
    "vectorizer = TfidfVectorizer(max_features=5000)\n",
    "X_tfidf = vectorizer.fit_transform(X)\n",
    "\n",
    "\n",
    "# Reasignar las clases con menos de 5 ejemplos a \"Otros\"\n",
    "classes_to_reassign = y.value_counts()[y.value_counts() < 5].index\n",
    "tickets_data.loc[tickets_data['category'].isin(classes_to_reassign), 'category'] = 'Otros'\n",
    "\n",
    "# Volver a definir X e y después de reasignar\n",
    "X = tickets_data['text_clean']\n",
    "y = tickets_data['category']\n",
    "\n",
    "# Volver a hacer la división de los datos\n",
    "X_tfidf = vectorizer.fit_transform(X)\n",
    "\n",
    "\n",
    "# Convertir todas las etiquetas a cadenas de texto\n",
    "y = y.astype(str)\n",
    "\n",
    "# Luego puedes continuar con el resto del código sin problemas\n",
    "X_train, X_temp, y_train, y_temp = train_test_split(X_tfidf, y, test_size=0.3, random_state=42, stratify=y)\n",
    "X_val, X_test, y_val, y_test = train_test_split(X_temp, y_temp, test_size=0.5, random_state=42, stratify=y_temp)\n",
    "\n",
    "\n",
    "# Balanceo de clases con SMOTE en el conjunto de entrenamiento\n",
    "from imblearn.over_sampling import SMOTE\n",
    "smote = SMOTE(random_state=42)\n",
    "X_train_balanced, y_train_balanced = smote.fit_resample(X_train, y_train)\n",
    "\n",
    "# Crear y entrenar el modelo Naive Bayes\n",
    "model = MultinomialNB()\n",
    "model.fit(X_train_balanced, y_train_balanced)\n",
    "\n",
    "# Realizar predicciones en el conjunto de validación\n",
    "y_val_pred = model.predict(X_val)\n",
    "\n",
    "# Evaluar el modelo usando métricas: precisión, recall, F1-score\n",
    "print(\"Métricas en el conjunto de validación:\")\n",
    "print(classification_report(y_val, y_val_pred))\n",
    "\n",
    "# Mostrar la matriz de confusión\n",
    "print(\"Matriz de Confusión (Validación):\")\n",
    "print(confusion_matrix(y_val, y_val_pred))\n",
    "\n",
    "# Evaluar el modelo en el conjunto de prueba\n",
    "y_test_pred = model.predict(X_test)\n",
    "print(\"Métricas en el conjunto de prueba:\")\n",
    "print(classification_report(y_test, y_test_pred))\n",
    "print(\"Matriz de Confusión (Prueba):\")\n",
    "print(confusion_matrix(y_test, y_test_pred))\n",
    "\n",
    "# Validación Cruzada (Cross-validation) para evaluar la estabilidad\n",
    "cross_val_scores = cross_val_score(model, X_tfidf, y, cv=5, scoring='accuracy')\n",
    "print(\"Validación Cruzada (precisión promedio):\", np.mean(cross_val_scores))\n",
    "\n",
    "# Evaluar la estabilidad del modelo mediante precisión sobre varias particiones\n",
    "print(f\"Precisión media de validación cruzada: {np.mean(cross_val_scores):.4f}\")\n"
   ]
  },
  {
   "cell_type": "code",
   "execution_count": 21,
   "id": "7a34dbcd-ce76-4f7e-b515-186ddaf75ce7",
   "metadata": {},
   "outputs": [
    {
     "name": "stdout",
     "output_type": "stream",
     "text": [
      "category\n",
      "4     34061\n",
      "5      9634\n",
      "6      2628\n",
      "7       921\n",
      "11      612\n",
      "8       239\n",
      "9       191\n",
      "3       137\n",
      "1        72\n",
      "12       45\n",
      "0         4\n",
      "2         3\n",
      "10        2\n",
      "Name: count, dtype: int64\n"
     ]
    }
   ],
   "source": [
    "print(y.value_counts())\n"
   ]
  },
  {
   "cell_type": "markdown",
   "id": "2310fdfa-03f7-48f6-a42c-45e97ec20ea0",
   "metadata": {},
   "source": [
    "hasta aqui va bien!\n",
    "tons:"
   ]
  },
  {
   "cell_type": "code",
   "execution_count": 24,
   "id": "135ed1e2-46ac-4aff-84df-eed49eb1a7eb",
   "metadata": {},
   "outputs": [
    {
     "name": "stderr",
     "output_type": "stream",
     "text": [
      "/home/user007/anaconda3/envs/base_clone/lib/python3.12/site-packages/joblib/externals/loky/process_executor.py:752: UserWarning: A worker stopped while some jobs were given to the executor. This can be caused by a too short worker timeout or by a memory leak.\n",
      "  warnings.warn(\n"
     ]
    },
    {
     "name": "stdout",
     "output_type": "stream",
     "text": [
      "Métricas en el conjunto de validación:\n",
      "              precision    recall  f1-score   support\n",
      "\n",
      "           1       0.20      0.09      0.12        11\n",
      "          11       0.79      0.61      0.69        92\n",
      "          12       1.00      0.57      0.73         7\n",
      "           3       0.75      0.15      0.25        20\n",
      "           4       0.88      0.95      0.91      5109\n",
      "           5       0.82      0.71      0.76      1445\n",
      "           6       0.63      0.39      0.48       394\n",
      "           7       0.63      0.78      0.70       138\n",
      "           8       0.93      0.78      0.85        36\n",
      "           9       0.62      0.18      0.28        28\n",
      "       Otros       0.00      0.00      0.00         2\n",
      "\n",
      "    accuracy                           0.85      7282\n",
      "   macro avg       0.66      0.47      0.52      7282\n",
      "weighted avg       0.85      0.85      0.84      7282\n",
      "\n",
      "Matriz de Confusión (Validación):\n",
      "[[   1    0    0    0   10    0    0    0    0    0    0]\n",
      " [   0   56    0    0   25    5    1    5    0    0    0]\n",
      " [   0    0    4    0    3    0    0    0    0    0    0]\n",
      " [   0    0    0    3   11    6    0    0    0    0    0]\n",
      " [   4    4    0    0 4837  154   58   51    1    0    0]\n",
      " [   0    6    0    1  385 1021   23    6    0    3    0]\n",
      " [   0    2    0    0  199   38  152    2    1    0    0]\n",
      " [   0    3    0    0   22    2    3  108    0    0    0]\n",
      " [   0    0    0    0    5    0    3    0   28    0    0]\n",
      " [   0    0    0    0   12   11    0    0    0    5    0]\n",
      " [   0    0    0    0    1    1    0    0    0    0    0]]\n"
     ]
    },
    {
     "name": "stderr",
     "output_type": "stream",
     "text": [
      "/home/user007/anaconda3/envs/base_clone/lib/python3.12/site-packages/sklearn/metrics/_classification.py:1509: UndefinedMetricWarning: Precision is ill-defined and being set to 0.0 in labels with no predicted samples. Use `zero_division` parameter to control this behavior.\n",
      "  _warn_prf(average, modifier, f\"{metric.capitalize()} is\", len(result))\n",
      "/home/user007/anaconda3/envs/base_clone/lib/python3.12/site-packages/sklearn/metrics/_classification.py:1509: UndefinedMetricWarning: Precision is ill-defined and being set to 0.0 in labels with no predicted samples. Use `zero_division` parameter to control this behavior.\n",
      "  _warn_prf(average, modifier, f\"{metric.capitalize()} is\", len(result))\n",
      "/home/user007/anaconda3/envs/base_clone/lib/python3.12/site-packages/sklearn/metrics/_classification.py:1509: UndefinedMetricWarning: Precision is ill-defined and being set to 0.0 in labels with no predicted samples. Use `zero_division` parameter to control this behavior.\n",
      "  _warn_prf(average, modifier, f\"{metric.capitalize()} is\", len(result))\n"
     ]
    },
    {
     "name": "stdout",
     "output_type": "stream",
     "text": [
      "Métricas en el conjunto de prueba:\n",
      "              precision    recall  f1-score   support\n",
      "\n",
      "           1       0.50      0.09      0.15        11\n",
      "          11       0.79      0.66      0.72        92\n",
      "          12       1.00      0.83      0.91         6\n",
      "           3       0.22      0.10      0.13        21\n",
      "           4       0.88      0.96      0.92      5110\n",
      "           5       0.85      0.70      0.77      1445\n",
      "           6       0.57      0.35      0.43       394\n",
      "           7       0.71      0.79      0.75       138\n",
      "           8       0.90      0.75      0.82        36\n",
      "           9       1.00      0.24      0.39        29\n",
      "       Otros       0.00      0.00      0.00         1\n",
      "\n",
      "    accuracy                           0.86      7283\n",
      "   macro avg       0.67      0.50      0.54      7283\n",
      "weighted avg       0.85      0.86      0.85      7283\n",
      "\n",
      "Matriz de Confusión (Prueba):\n",
      "[[   1    0    0    0    8    1    1    0    0    0    0]\n",
      " [   0   61    0    0   19    3    3    6    0    0    0]\n",
      " [   0    0    5    0    1    0    0    0    0    0    0]\n",
      " [   0    0    0    2   13    5    1    0    0    0    0]\n",
      " [   1    5    0    2 4890  116   67   29    0    0    0]\n",
      " [   0    8    0    3  390 1008   27    9    0    0    0]\n",
      " [   0    2    0    0  208   42  138    1    3    0    0]\n",
      " [   0    1    0    0   27    1    0  109    0    0    0]\n",
      " [   0    0    0    0    4    1    4    0   27    0    0]\n",
      " [   0    0    0    2   14    6    0    0    0    7    0]\n",
      " [   0    0    0    0    1    0    0    0    0    0    0]]\n",
      "Precisión del modelo: 0.8578882328710696\n",
      "Precisión media en validación cruzada: 0.9874781694764675\n"
     ]
    },
    {
     "name": "stderr",
     "output_type": "stream",
     "text": [
      "/home/user007/anaconda3/envs/base_clone/lib/python3.12/site-packages/sklearn/metrics/_classification.py:1509: UndefinedMetricWarning: Precision is ill-defined and being set to 0.0 in labels with no predicted samples. Use `zero_division` parameter to control this behavior.\n",
      "  _warn_prf(average, modifier, f\"{metric.capitalize()} is\", len(result))\n",
      "/home/user007/anaconda3/envs/base_clone/lib/python3.12/site-packages/sklearn/metrics/_classification.py:1509: UndefinedMetricWarning: Precision is ill-defined and being set to 0.0 in labels with no predicted samples. Use `zero_division` parameter to control this behavior.\n",
      "  _warn_prf(average, modifier, f\"{metric.capitalize()} is\", len(result))\n",
      "/home/user007/anaconda3/envs/base_clone/lib/python3.12/site-packages/sklearn/metrics/_classification.py:1509: UndefinedMetricWarning: Precision is ill-defined and being set to 0.0 in labels with no predicted samples. Use `zero_division` parameter to control this behavior.\n",
      "  _warn_prf(average, modifier, f\"{metric.capitalize()} is\", len(result))\n"
     ]
    },
    {
     "ename": "NameError",
     "evalue": "name 'le' is not defined",
     "output_type": "error",
     "traceback": [
      "\u001b[0;31m---------------------------------------------------------------------------\u001b[0m",
      "\u001b[0;31mNameError\u001b[0m                                 Traceback (most recent call last)",
      "Cell \u001b[0;32mIn[24], line 64\u001b[0m\n\u001b[1;32m     62\u001b[0m conf_matrix \u001b[38;5;241m=\u001b[39m confusion_matrix(y_test, y_test_pred)\n\u001b[1;32m     63\u001b[0m plt\u001b[38;5;241m.\u001b[39mfigure(figsize\u001b[38;5;241m=\u001b[39m(\u001b[38;5;241m10\u001b[39m, \u001b[38;5;241m7\u001b[39m))\n\u001b[0;32m---> 64\u001b[0m sns\u001b[38;5;241m.\u001b[39mheatmap(conf_matrix, annot\u001b[38;5;241m=\u001b[39m\u001b[38;5;28;01mTrue\u001b[39;00m, fmt\u001b[38;5;241m=\u001b[39m\u001b[38;5;124m\"\u001b[39m\u001b[38;5;124md\u001b[39m\u001b[38;5;124m\"\u001b[39m, cmap\u001b[38;5;241m=\u001b[39m\u001b[38;5;124m\"\u001b[39m\u001b[38;5;124mBlues\u001b[39m\u001b[38;5;124m\"\u001b[39m, xticklabels\u001b[38;5;241m=\u001b[39mle\u001b[38;5;241m.\u001b[39mclasses_, yticklabels\u001b[38;5;241m=\u001b[39mle\u001b[38;5;241m.\u001b[39mclasses_)\n\u001b[1;32m     65\u001b[0m plt\u001b[38;5;241m.\u001b[39mxlabel(\u001b[38;5;124m'\u001b[39m\u001b[38;5;124mPredicción\u001b[39m\u001b[38;5;124m'\u001b[39m)\n\u001b[1;32m     66\u001b[0m plt\u001b[38;5;241m.\u001b[39mylabel(\u001b[38;5;124m'\u001b[39m\u001b[38;5;124mReal\u001b[39m\u001b[38;5;124m'\u001b[39m)\n",
      "\u001b[0;31mNameError\u001b[0m: name 'le' is not defined"
     ]
    },
    {
     "data": {
      "text/plain": [
       "<Figure size 1000x700 with 0 Axes>"
      ]
     },
     "metadata": {},
     "output_type": "display_data"
    }
   ],
   "source": [
    "from sklearn.ensemble import RandomForestClassifier\n",
    "from sklearn.model_selection import GridSearchCV, StratifiedKFold\n",
    "from sklearn.metrics import classification_report, confusion_matrix, accuracy_score\n",
    "import matplotlib.pyplot as plt\n",
    "import seaborn as sns\n",
    "\n",
    "# No necesitas volver a cargar los datos ni hacer preprocesamiento, ya lo hiciste antes.\n",
    "# X_train, X_val, X_test, y_train, y_val, y_test ya están definidos.\n",
    "\n",
    "# Balanceo de clases con SMOTE en el conjunto de entrenamiento (si no lo hiciste en el bloque anterior)\n",
    "from imblearn.over_sampling import SMOTE\n",
    "smote = SMOTE(random_state=42)\n",
    "X_train_balanced, y_train_balanced = smote.fit_resample(X_train, y_train)\n",
    "\n",
    "# Inicialización del modelo RandomForest\n",
    "model = RandomForestClassifier(random_state=42)\n",
    "\n",
    "# Definir los parámetros para optimizar\n",
    "param_grid = {\n",
    "    'n_estimators': [50, 100, 200],\n",
    "    'max_depth': [None, 10, 20],\n",
    "    'min_samples_split': [2, 5, 10],\n",
    "    'min_samples_leaf': [1, 2, 4]\n",
    "}\n",
    "\n",
    "# Usar StratifiedKFold para validación cruzada estratificada\n",
    "cv = StratifiedKFold(n_splits=5, shuffle=True, random_state=42)\n",
    "\n",
    "# Optimización de hiperparámetros con GridSearchCV\n",
    "grid_search = GridSearchCV(estimator=model, param_grid=param_grid, cv=cv, n_jobs=-1, scoring='accuracy')\n",
    "grid_search.fit(X_train_balanced, y_train_balanced)\n",
    "\n",
    "# Obtener el mejor modelo\n",
    "best_model = grid_search.best_estimator_\n",
    "\n",
    "# Evaluar el modelo en el conjunto de validación\n",
    "y_val_pred = best_model.predict(X_val)\n",
    "\n",
    "# Imprimir métricas de evaluación para validación\n",
    "print(\"Métricas en el conjunto de validación:\")\n",
    "print(classification_report(y_val, y_val_pred))\n",
    "\n",
    "# Mostrar la matriz de confusión\n",
    "print(\"Matriz de Confusión (Validación):\")\n",
    "print(confusion_matrix(y_val, y_val_pred))\n",
    "\n",
    "# Evaluar el modelo en el conjunto de prueba\n",
    "y_test_pred = best_model.predict(X_test)\n",
    "print(\"Métricas en el conjunto de prueba:\")\n",
    "print(classification_report(y_test, y_test_pred))\n",
    "print(\"Matriz de Confusión (Prueba):\")\n",
    "print(confusion_matrix(y_test, y_test_pred))\n",
    "\n",
    "# Precisión del modelo\n",
    "accuracy = accuracy_score(y_test, y_test_pred)\n",
    "print(f\"Precisión del modelo: {accuracy}\")\n",
    "\n",
    "# Mostrar el rendimiento en la validación cruzada\n",
    "print(f\"Precisión media en validación cruzada: {grid_search.best_score_}\")\n",
    "\n",
    "# Matriz de confusión para visualizar los errores\n",
    "conf_matrix = confusion_matrix(y_test, y_test_pred)\n",
    "plt.figure(figsize=(10, 7))\n",
    "sns.heatmap(conf_matrix, annot=True, fmt=\"d\", cmap=\"Blues\", xticklabels=le.classes_, yticklabels=le.classes_)\n",
    "plt.xlabel('Predicción')\n",
    "plt.ylabel('Real')\n",
    "plt.title('Matriz de Confusión')\n",
    "plt.show()\n"
   ]
  },
  {
   "cell_type": "markdown",
   "id": "2d81b03f-1545-4f2c-a3ad-decfb91e7923",
   "metadata": {},
   "source": [
    "codigo complemento para mejorar resultados:"
   ]
  },
  {
   "cell_type": "code",
   "execution_count": 26,
   "id": "dd4d863d-7524-4193-9bcd-b976821163b7",
   "metadata": {},
   "outputs": [
    {
     "data": {
      "image/png": "[encoded data removed]",
      "text/plain": [
       "<Figure size 1000x700 with 2 Axes>"
      ]
     },
     "metadata": {},
     "output_type": "display_data"
    },
    {
     "name": "stderr",
     "output_type": "stream",
     "text": [
      "/home/user007/anaconda3/envs/base_clone/lib/python3.12/site-packages/joblib/externals/loky/process_executor.py:752: UserWarning: A worker stopped while some jobs were given to the executor. This can be caused by a too short worker timeout or by a memory leak.\n",
      "  warnings.warn(\n"
     ]
    },
    {
     "name": "stdout",
     "output_type": "stream",
     "text": [
      "Reporte de clasificación con ajuste de pesos:\n",
      "              precision    recall  f1-score   support\n",
      "\n",
      "           1       0.50      0.09      0.15        11\n",
      "          11       0.79      0.66      0.72        92\n",
      "          12       1.00      0.83      0.91         6\n",
      "           3       0.22      0.10      0.13        21\n",
      "           4       0.88      0.96      0.92      5110\n",
      "           5       0.85      0.70      0.77      1445\n",
      "           6       0.57      0.35      0.43       394\n",
      "           7       0.71      0.79      0.75       138\n",
      "           8       0.90      0.75      0.82        36\n",
      "           9       1.00      0.24      0.39        29\n",
      "       Otros       0.00      0.00      0.00         1\n",
      "\n",
      "    accuracy                           0.86      7283\n",
      "   macro avg       0.67      0.50      0.54      7283\n",
      "weighted avg       0.85      0.86      0.85      7283\n",
      "\n"
     ]
    },
    {
     "name": "stderr",
     "output_type": "stream",
     "text": [
      "/home/user007/anaconda3/envs/base_clone/lib/python3.12/site-packages/sklearn/metrics/_classification.py:1509: UndefinedMetricWarning: Precision is ill-defined and being set to 0.0 in labels with no predicted samples. Use `zero_division` parameter to control this behavior.\n",
      "  _warn_prf(average, modifier, f\"{metric.capitalize()} is\", len(result))\n",
      "/home/user007/anaconda3/envs/base_clone/lib/python3.12/site-packages/sklearn/metrics/_classification.py:1509: UndefinedMetricWarning: Precision is ill-defined and being set to 0.0 in labels with no predicted samples. Use `zero_division` parameter to control this behavior.\n",
      "  _warn_prf(average, modifier, f\"{metric.capitalize()} is\", len(result))\n",
      "/home/user007/anaconda3/envs/base_clone/lib/python3.12/site-packages/sklearn/metrics/_classification.py:1509: UndefinedMetricWarning: Precision is ill-defined and being set to 0.0 in labels with no predicted samples. Use `zero_division` parameter to control this behavior.\n",
      "  _warn_prf(average, modifier, f\"{metric.capitalize()} is\", len(result))\n"
     ]
    },
    {
     "name": "stdout",
     "output_type": "stream",
     "text": [
      "Reporte de clasificación con clases agrupadas:\n"
     ]
    },
    {
     "ename": "ValueError",
     "evalue": "Mix of label input types (string and number)",
     "output_type": "error",
     "traceback": [
      "\u001b[0;31m---------------------------------------------------------------------------\u001b[0m",
      "\u001b[0;31mValueError\u001b[0m                                Traceback (most recent call last)",
      "Cell \u001b[0;32mIn[26], line 54\u001b[0m\n\u001b[1;32m     52\u001b[0m y_test_pred_adjusted \u001b[38;5;241m=\u001b[39m model_adjusted\u001b[38;5;241m.\u001b[39mpredict(X_test)\n\u001b[1;32m     53\u001b[0m \u001b[38;5;28mprint\u001b[39m(\u001b[38;5;124m\"\u001b[39m\u001b[38;5;124mReporte de clasificación con clases agrupadas:\u001b[39m\u001b[38;5;124m\"\u001b[39m)\n\u001b[0;32m---> 54\u001b[0m \u001b[38;5;28mprint\u001b[39m(classification_report(y_test, y_test_pred_adjusted))\n",
      "File \u001b[0;32m~/anaconda3/envs/base_clone/lib/python3.12/site-packages/sklearn/utils/_param_validation.py:213\u001b[0m, in \u001b[0;36mvalidate_params.<locals>.decorator.<locals>.wrapper\u001b[0;34m(*args, **kwargs)\u001b[0m\n\u001b[1;32m    207\u001b[0m \u001b[38;5;28;01mtry\u001b[39;00m:\n\u001b[1;32m    208\u001b[0m     \u001b[38;5;28;01mwith\u001b[39;00m config_context(\n\u001b[1;32m    209\u001b[0m         skip_parameter_validation\u001b[38;5;241m=\u001b[39m(\n\u001b[1;32m    210\u001b[0m             prefer_skip_nested_validation \u001b[38;5;129;01mor\u001b[39;00m global_skip_validation\n\u001b[1;32m    211\u001b[0m         )\n\u001b[1;32m    212\u001b[0m     ):\n\u001b[0;32m--> 213\u001b[0m         \u001b[38;5;28;01mreturn\u001b[39;00m func(\u001b[38;5;241m*\u001b[39margs, \u001b[38;5;241m*\u001b[39m\u001b[38;5;241m*\u001b[39mkwargs)\n\u001b[1;32m    214\u001b[0m \u001b[38;5;28;01mexcept\u001b[39;00m InvalidParameterError \u001b[38;5;28;01mas\u001b[39;00m e:\n\u001b[1;32m    215\u001b[0m     \u001b[38;5;66;03m# When the function is just a wrapper around an estimator, we allow\u001b[39;00m\n\u001b[1;32m    216\u001b[0m     \u001b[38;5;66;03m# the function to delegate validation to the estimator, but we replace\u001b[39;00m\n\u001b[1;32m    217\u001b[0m     \u001b[38;5;66;03m# the name of the estimator by the name of the function in the error\u001b[39;00m\n\u001b[1;32m    218\u001b[0m     \u001b[38;5;66;03m# message to avoid confusion.\u001b[39;00m\n\u001b[1;32m    219\u001b[0m     msg \u001b[38;5;241m=\u001b[39m re\u001b[38;5;241m.\u001b[39msub(\n\u001b[1;32m    220\u001b[0m         \u001b[38;5;124mr\u001b[39m\u001b[38;5;124m\"\u001b[39m\u001b[38;5;124mparameter of \u001b[39m\u001b[38;5;124m\\\u001b[39m\u001b[38;5;124mw+ must be\u001b[39m\u001b[38;5;124m\"\u001b[39m,\n\u001b[1;32m    221\u001b[0m         \u001b[38;5;124mf\u001b[39m\u001b[38;5;124m\"\u001b[39m\u001b[38;5;124mparameter of \u001b[39m\u001b[38;5;132;01m{\u001b[39;00mfunc\u001b[38;5;241m.\u001b[39m\u001b[38;5;18m__qualname__\u001b[39m\u001b[38;5;132;01m}\u001b[39;00m\u001b[38;5;124m must be\u001b[39m\u001b[38;5;124m\"\u001b[39m,\n\u001b[1;32m    222\u001b[0m         \u001b[38;5;28mstr\u001b[39m(e),\n\u001b[1;32m    223\u001b[0m     )\n",
      "File \u001b[0;32m~/anaconda3/envs/base_clone/lib/python3.12/site-packages/sklearn/metrics/_classification.py:2607\u001b[0m, in \u001b[0;36mclassification_report\u001b[0;34m(y_true, y_pred, labels, target_names, sample_weight, digits, output_dict, zero_division)\u001b[0m\n\u001b[1;32m   2604\u001b[0m y_type, y_true, y_pred \u001b[38;5;241m=\u001b[39m _check_targets(y_true, y_pred)\n\u001b[1;32m   2606\u001b[0m \u001b[38;5;28;01mif\u001b[39;00m labels \u001b[38;5;129;01mis\u001b[39;00m \u001b[38;5;28;01mNone\u001b[39;00m:\n\u001b[0;32m-> 2607\u001b[0m     labels \u001b[38;5;241m=\u001b[39m unique_labels(y_true, y_pred)\n\u001b[1;32m   2608\u001b[0m     labels_given \u001b[38;5;241m=\u001b[39m \u001b[38;5;28;01mFalse\u001b[39;00m\n\u001b[1;32m   2609\u001b[0m \u001b[38;5;28;01melse\u001b[39;00m:\n",
      "File \u001b[0;32m~/anaconda3/envs/base_clone/lib/python3.12/site-packages/sklearn/utils/multiclass.py:116\u001b[0m, in \u001b[0;36munique_labels\u001b[0;34m(*ys)\u001b[0m\n\u001b[1;32m    114\u001b[0m \u001b[38;5;66;03m# Check that we don't mix string type with number type\u001b[39;00m\n\u001b[1;32m    115\u001b[0m \u001b[38;5;28;01mif\u001b[39;00m \u001b[38;5;28mlen\u001b[39m(\u001b[38;5;28mset\u001b[39m(\u001b[38;5;28misinstance\u001b[39m(label, \u001b[38;5;28mstr\u001b[39m) \u001b[38;5;28;01mfor\u001b[39;00m label \u001b[38;5;129;01min\u001b[39;00m ys_labels)) \u001b[38;5;241m>\u001b[39m \u001b[38;5;241m1\u001b[39m:\n\u001b[0;32m--> 116\u001b[0m     \u001b[38;5;28;01mraise\u001b[39;00m \u001b[38;5;167;01mValueError\u001b[39;00m(\u001b[38;5;124m\"\u001b[39m\u001b[38;5;124mMix of label input types (string and number)\u001b[39m\u001b[38;5;124m\"\u001b[39m)\n\u001b[1;32m    118\u001b[0m \u001b[38;5;28;01mreturn\u001b[39;00m xp\u001b[38;5;241m.\u001b[39masarray(\u001b[38;5;28msorted\u001b[39m(ys_labels))\n",
      "\u001b[0;31mValueError\u001b[0m: Mix of label input types (string and number)"
     ]
    }
   ],
   "source": [
    "from sklearn.preprocessing import LabelEncoder\n",
    "from joblib import Parallel, parallel_backend\n",
    "from sklearn.metrics import f1_score, recall_score\n",
    "import numpy as np\n",
    "\n",
    "# Asegurar que `le` esté definido correctamente\n",
    "le = LabelEncoder()\n",
    "le.fit(y_train)  # Asegúrate de usar el conjunto de entrenamiento original\n",
    "\n",
    "# Matriz de confusión corregida\n",
    "plt.figure(figsize=(10, 7))\n",
    "sns.heatmap(conf_matrix, annot=True, fmt=\"d\", cmap=\"Blues\", \n",
    "            xticklabels=le.classes_, yticklabels=le.classes_)\n",
    "plt.xlabel('Predicción')\n",
    "plt.ylabel('Real')\n",
    "plt.title('Matriz de Confusión (Prueba)')\n",
    "plt.show()\n",
    "\n",
    "# # Manejar estabilidad con loky\n",
    "# with parallel_backend(\"loky\", inner_max_num_threads=1, timeout=3600):\n",
    "#     # Re-entrenar si es necesario, o realizar otros procesos que usen procesamiento paralelo\n",
    "#     pass\n",
    "\n",
    "# Ajuste de pesos para clases desequilibradas\n",
    "model_with_weights = RandomForestClassifier(random_state=42, class_weight='balanced')\n",
    "grid_search_with_weights = GridSearchCV(estimator=model_with_weights, param_grid=param_grid, cv=cv, n_jobs=-1, scoring='accuracy')\n",
    "grid_search_with_weights.fit(X_train_balanced, y_train_balanced)\n",
    "\n",
    "# Resultados del nuevo modelo\n",
    "best_model_with_weights = grid_search_with_weights.best_estimator_\n",
    "y_test_pred_with_weights = best_model_with_weights.predict(X_test)\n",
    "\n",
    "# Métricas detalladas para el modelo ajustado\n",
    "print(\"Reporte de clasificación con ajuste de pesos:\")\n",
    "print(classification_report(y_test, y_test_pred_with_weights))\n",
    "\n",
    "# Validar clases minoritarias y reagrupar si es necesario\n",
    "# (Esto depende de tus datos específicos; aquí damos un ejemplo de cómo reagrupar etiquetas)\n",
    "minor_classes = ['Clase1', 'Otros']  # Reemplazar con tus etiquetas reales\n",
    "y_train_adjusted = y_train.copy()\n",
    "y_train_adjusted[y_train_adjusted.isin(minor_classes)] = 'OtrosAgrupados'\n",
    "\n",
    "# Volver a entrenar con clases agrupadas si es necesario\n",
    "le_adjusted = LabelEncoder()\n",
    "y_train_adjusted_encoded = le_adjusted.fit_transform(y_train_adjusted)\n",
    "X_train_adjusted_balanced, y_train_adjusted_balanced = smote.fit_resample(X_train, y_train_adjusted_encoded)\n",
    "\n",
    "model_adjusted = RandomForestClassifier(random_state=42)\n",
    "model_adjusted.fit(X_train_adjusted_balanced, y_train_adjusted_balanced)\n",
    "\n",
    "# Métricas finales\n",
    "y_test_pred_adjusted = model_adjusted.predict(X_test)\n",
    "print(\"Reporte de clasificación con clases agrupadas:\")\n",
    "print(classification_report(y_test, y_test_pred_adjusted))\n"
   ]
  },
  {
   "cell_type": "code",
   "execution_count": 27,
   "id": "d7bfe2c5-1f21-4a2e-8ee7-c3c7b13334bb",
   "metadata": {},
   "outputs": [
    {
     "name": "stdout",
     "output_type": "stream",
     "text": [
      "hola\n"
     ]
    }
   ],
   "source": [
    "print(\"hola\")\n"
   ]
  },
  {
   "cell_type": "code",
   "execution_count": 28,
   "id": "4d0452a4-3643-4270-9690-52d70d427f47",
   "metadata": {},
   "outputs": [
    {
     "name": "stdout",
     "output_type": "stream",
     "text": [
      "[[   1    0    0    0    8    1    1    0    0    0    0]\n",
      " [   0   61    0    0   19    3    3    6    0    0    0]\n",
      " [   0    0    5    0    1    0    0    0    0    0    0]\n",
      " [   0    0    0    2   13    5    1    0    0    0    0]\n",
      " [   1    5    0    2 4890  116   67   29    0    0    0]\n",
      " [   0    8    0    3  390 1008   27    9    0    0    0]\n",
      " [   0    2    0    0  208   42  138    1    3    0    0]\n",
      " [   0    1    0    0   27    1    0  109    0    0    0]\n",
      " [   0    0    0    0    4    1    4    0   27    0    0]\n",
      " [   0    0    0    2   14    6    0    0    0    7    0]\n",
      " [   0    0    0    0    1    0    0    0    0    0    0]]\n"
     ]
    }
   ],
   "source": [
    "\n",
    "# Mostrar la matriz de confusión como una matriz de texto\n",
    "print(conf_matrix)\n"
   ]
  },
  {
   "cell_type": "code",
   "execution_count": 29,
   "id": "7e2ead51-51f3-41a3-b139-e6fda59abd7c",
   "metadata": {},
   "outputs": [
    {
     "data": {
      "image/png": "[encoded data removed]",
      "text/plain": [
       "<Figure size 1000x700 with 2 Axes>"
      ]
     },
     "metadata": {},
     "output_type": "display_data"
    },
    {
     "name": "stderr",
     "output_type": "stream",
     "text": [
      "/home/user007/anaconda3/envs/base_clone/lib/python3.12/site-packages/joblib/externals/loky/process_executor.py:752: UserWarning: A worker stopped while some jobs were given to the executor. This can be caused by a too short worker timeout or by a memory leak.\n",
      "  warnings.warn(\n"
     ]
    },
    {
     "name": "stdout",
     "output_type": "stream",
     "text": [
      "Reporte de clasificación con ajuste de pesos:\n",
      "              precision    recall  f1-score   support\n",
      "\n",
      "           1       0.50      0.09      0.15        11\n",
      "          11       0.79      0.66      0.72        92\n",
      "          12       1.00      0.83      0.91         6\n",
      "           3       0.22      0.10      0.13        21\n",
      "           4       0.88      0.96      0.92      5110\n",
      "           5       0.85      0.70      0.77      1445\n",
      "           6       0.57      0.35      0.43       394\n",
      "           7       0.71      0.79      0.75       138\n",
      "           8       0.90      0.75      0.82        36\n",
      "           9       1.00      0.24      0.39        29\n",
      "       Otros       0.00      0.00      0.00         1\n",
      "\n",
      "    accuracy                           0.86      7283\n",
      "   macro avg       0.67      0.50      0.54      7283\n",
      "weighted avg       0.85      0.86      0.85      7283\n",
      "\n"
     ]
    },
    {
     "name": "stderr",
     "output_type": "stream",
     "text": [
      "/home/user007/anaconda3/envs/base_clone/lib/python3.12/site-packages/sklearn/metrics/_classification.py:1509: UndefinedMetricWarning: Precision is ill-defined and being set to 0.0 in labels with no predicted samples. Use `zero_division` parameter to control this behavior.\n",
      "  _warn_prf(average, modifier, f\"{metric.capitalize()} is\", len(result))\n",
      "/home/user007/anaconda3/envs/base_clone/lib/python3.12/site-packages/sklearn/metrics/_classification.py:1509: UndefinedMetricWarning: Precision is ill-defined and being set to 0.0 in labels with no predicted samples. Use `zero_division` parameter to control this behavior.\n",
      "  _warn_prf(average, modifier, f\"{metric.capitalize()} is\", len(result))\n",
      "/home/user007/anaconda3/envs/base_clone/lib/python3.12/site-packages/sklearn/metrics/_classification.py:1509: UndefinedMetricWarning: Precision is ill-defined and being set to 0.0 in labels with no predicted samples. Use `zero_division` parameter to control this behavior.\n",
      "  _warn_prf(average, modifier, f\"{metric.capitalize()} is\", len(result))\n"
     ]
    },
    {
     "name": "stdout",
     "output_type": "stream",
     "text": [
      "Reporte de clasificación con clases agrupadas:\n",
      "              precision    recall  f1-score   support\n",
      "\n",
      "           0       0.00      0.00      0.00         0\n",
      "           1       0.00      0.00      0.00        11\n",
      "          11       0.00      0.00      0.00        92\n",
      "          12       0.00      0.00      0.00         6\n",
      "           2       0.00      0.00      0.00         0\n",
      "           3       0.38      0.14      0.21        21\n",
      "           4       0.88      0.96      0.92      5110\n",
      "           5       0.85      0.71      0.77      1445\n",
      "           6       0.56      0.34      0.43       394\n",
      "           7       0.70      0.80      0.75       138\n",
      "           8       0.90      0.75      0.82        36\n",
      "           9       1.00      0.31      0.47        29\n",
      "       Otros       0.00      0.00      0.00         1\n",
      "\n",
      "    accuracy                           0.85      7283\n",
      "   macro avg       0.41      0.31      0.34      7283\n",
      "weighted avg       0.84      0.85      0.84      7283\n",
      "\n"
     ]
    },
    {
     "name": "stderr",
     "output_type": "stream",
     "text": [
      "/home/user007/anaconda3/envs/base_clone/lib/python3.12/site-packages/sklearn/metrics/_classification.py:1509: UndefinedMetricWarning: Precision is ill-defined and being set to 0.0 in labels with no predicted samples. Use `zero_division` parameter to control this behavior.\n",
      "  _warn_prf(average, modifier, f\"{metric.capitalize()} is\", len(result))\n",
      "/home/user007/anaconda3/envs/base_clone/lib/python3.12/site-packages/sklearn/metrics/_classification.py:1509: UndefinedMetricWarning: Recall is ill-defined and being set to 0.0 in labels with no true samples. Use `zero_division` parameter to control this behavior.\n",
      "  _warn_prf(average, modifier, f\"{metric.capitalize()} is\", len(result))\n",
      "/home/user007/anaconda3/envs/base_clone/lib/python3.12/site-packages/sklearn/metrics/_classification.py:1509: UndefinedMetricWarning: Precision is ill-defined and being set to 0.0 in labels with no predicted samples. Use `zero_division` parameter to control this behavior.\n",
      "  _warn_prf(average, modifier, f\"{metric.capitalize()} is\", len(result))\n",
      "/home/user007/anaconda3/envs/base_clone/lib/python3.12/site-packages/sklearn/metrics/_classification.py:1509: UndefinedMetricWarning: Recall is ill-defined and being set to 0.0 in labels with no true samples. Use `zero_division` parameter to control this behavior.\n",
      "  _warn_prf(average, modifier, f\"{metric.capitalize()} is\", len(result))\n",
      "/home/user007/anaconda3/envs/base_clone/lib/python3.12/site-packages/sklearn/metrics/_classification.py:1509: UndefinedMetricWarning: Precision is ill-defined and being set to 0.0 in labels with no predicted samples. Use `zero_division` parameter to control this behavior.\n",
      "  _warn_prf(average, modifier, f\"{metric.capitalize()} is\", len(result))\n",
      "/home/user007/anaconda3/envs/base_clone/lib/python3.12/site-packages/sklearn/metrics/_classification.py:1509: UndefinedMetricWarning: Recall is ill-defined and being set to 0.0 in labels with no true samples. Use `zero_division` parameter to control this behavior.\n",
      "  _warn_prf(average, modifier, f\"{metric.capitalize()} is\", len(result))\n"
     ]
    }
   ],
   "source": [
    "from sklearn.preprocessing import LabelEncoder\n",
    "from sklearn.ensemble import RandomForestClassifier\n",
    "from sklearn.model_selection import GridSearchCV\n",
    "from sklearn.metrics import classification_report\n",
    "import numpy as np\n",
    "import seaborn as sns\n",
    "import matplotlib.pyplot as plt\n",
    "from imblearn.over_sampling import SMOTE\n",
    "\n",
    "# Asegúrate de que las etiquetas estén consistentes\n",
    "y_test = [str(label) for label in y_test]  # Convertir a cadenas de texto\n",
    "y_test_pred_adjusted = [str(label) for label in y_test_pred_adjusted]  # Convertir a cadenas de texto\n",
    "\n",
    "# Asegurarte de que `le` esté definido correctamente\n",
    "le = LabelEncoder()\n",
    "le.fit(y_train)  # Asegúrate de usar el conjunto de entrenamiento original\n",
    "\n",
    "# Matriz de confusión corregida\n",
    "plt.figure(figsize=(10, 7))\n",
    "sns.heatmap(conf_matrix, annot=True, fmt=\"d\", cmap=\"Blues\", \n",
    "            xticklabels=le.classes_, yticklabels=le.classes_)\n",
    "plt.xlabel('Predicción')\n",
    "plt.ylabel('Real')\n",
    "plt.title('Matriz de Confusión (Prueba)')\n",
    "plt.show()\n",
    "\n",
    "# Ajuste de pesos para clases desequilibradas\n",
    "model_with_weights = RandomForestClassifier(random_state=42, class_weight='balanced')\n",
    "param_grid = {  # Asegúrate de definir tu grid de parámetros\n",
    "    'n_estimators': [50, 100, 200],\n",
    "    'max_depth': [None, 10, 20],\n",
    "    'min_samples_split': [2, 5, 10]\n",
    "}\n",
    "grid_search_with_weights = GridSearchCV(estimator=model_with_weights, param_grid=param_grid, cv=5, n_jobs=-1, scoring='accuracy')\n",
    "grid_search_with_weights.fit(X_train_balanced, y_train_balanced)\n",
    "\n",
    "# Resultados del nuevo modelo\n",
    "best_model_with_weights = grid_search_with_weights.best_estimator_\n",
    "y_test_pred_with_weights = best_model_with_weights.predict(X_test)\n",
    "\n",
    "# Métricas detalladas para el modelo ajustado\n",
    "print(\"Reporte de clasificación con ajuste de pesos:\")\n",
    "print(classification_report(y_test, y_test_pred_with_weights))\n",
    "\n",
    "# Validar clases minoritarias y reagrupar si es necesario\n",
    "minor_classes = ['Clase1', 'Clase2']  # Reemplaza con tus clases reales\n",
    "y_train_adjusted = y_train.copy()\n",
    "y_train_adjusted[y_train_adjusted.isin(minor_classes)] = 'OtrosAgrupados'\n",
    "\n",
    "# Volver a entrenar con clases agrupadas si es necesario\n",
    "le_adjusted = LabelEncoder()\n",
    "y_train_adjusted_encoded = le_adjusted.fit_transform(y_train_adjusted)\n",
    "\n",
    "# Realizar SMOTE si es necesario\n",
    "smote = SMOTE(random_state=42)\n",
    "X_train_adjusted_balanced, y_train_adjusted_balanced = smote.fit_resample(X_train, y_train_adjusted_encoded)\n",
    "\n",
    "# Entrenamiento del modelo ajustado\n",
    "model_adjusted = RandomForestClassifier(random_state=42)\n",
    "model_adjusted.fit(X_train_adjusted_balanced, y_train_adjusted_balanced)\n",
    "\n",
    "# Predicción y evaluación con el modelo ajustado\n",
    "y_test_pred_adjusted = model_adjusted.predict(X_test)\n",
    "\n",
    "# Asegurarse de que las etiquetas estén en formato consistente\n",
    "y_test = [str(label) for label in y_test]  # Convertir a cadenas de texto\n",
    "y_test_pred_adjusted = [str(label) for label in y_test_pred_adjusted]  # Convertir a cadenas de texto\n",
    "\n",
    "# Evaluación con métricas\n",
    "print(\"Reporte de clasificación con clases agrupadas:\")\n",
    "print(classification_report(y_test, y_test_pred_adjusted))\n",
    "\n"
   ]
  },
  {
   "cell_type": "code",
   "execution_count": 33,
   "id": "1677048c-425d-43eb-9032-375d6b39327f",
   "metadata": {},
   "outputs": [
    {
     "data": {
      "image/png": "[encoded data removed]",
      "text/plain": [
       "<Figure size 1000x700 with 2 Axes>"
      ]
     },
     "metadata": {},
     "output_type": "display_data"
    },
    {
     "name": "stdout",
     "output_type": "stream",
     "text": [
      "Reporte de clasificación con ajuste de pesos:\n",
      "              precision    recall  f1-score   support\n",
      "\n",
      "           1       0.00      0.00      0.00        11\n",
      "          11       0.00      0.00      0.00        92\n",
      "          12       0.00      0.00      0.00         6\n",
      "           3       0.00      0.00      0.00        21\n",
      "           4       0.71      1.00      0.83      5110\n",
      "           5       0.73      0.03      0.05      1445\n",
      "           6       0.00      0.00      0.00       394\n",
      "           7       0.88      0.05      0.10       138\n",
      "           8       0.00      0.00      0.00        36\n",
      "           9       0.00      0.00      0.00        29\n",
      "       Otros       0.00      0.00      0.00         1\n",
      "\n",
      "    accuracy                           0.71      7283\n",
      "   macro avg       0.21      0.10      0.09      7283\n",
      "weighted avg       0.66      0.71      0.59      7283\n",
      "\n"
     ]
    },
    {
     "name": "stderr",
     "output_type": "stream",
     "text": [
      "/home/user007/anaconda3/envs/base_clone/lib/python3.12/site-packages/sklearn/metrics/_classification.py:1509: UndefinedMetricWarning: Precision is ill-defined and being set to 0.0 in labels with no predicted samples. Use `zero_division` parameter to control this behavior.\n",
      "  _warn_prf(average, modifier, f\"{metric.capitalize()} is\", len(result))\n",
      "/home/user007/anaconda3/envs/base_clone/lib/python3.12/site-packages/sklearn/metrics/_classification.py:1509: UndefinedMetricWarning: Precision is ill-defined and being set to 0.0 in labels with no predicted samples. Use `zero_division` parameter to control this behavior.\n",
      "  _warn_prf(average, modifier, f\"{metric.capitalize()} is\", len(result))\n",
      "/home/user007/anaconda3/envs/base_clone/lib/python3.12/site-packages/sklearn/metrics/_classification.py:1509: UndefinedMetricWarning: Precision is ill-defined and being set to 0.0 in labels with no predicted samples. Use `zero_division` parameter to control this behavior.\n",
      "  _warn_prf(average, modifier, f\"{metric.capitalize()} is\", len(result))\n"
     ]
    },
    {
     "name": "stdout",
     "output_type": "stream",
     "text": [
      "Reporte de clasificación con clases agrupadas:\n",
      "              precision    recall  f1-score   support\n",
      "\n",
      "           0       0.00      0.00      0.00         0\n",
      "           1       0.00      0.00      0.00        11\n",
      "          11       0.00      0.00      0.00        92\n",
      "          12       0.00      0.00      0.00         6\n",
      "           2       0.00      0.00      0.00         0\n",
      "           3       0.08      0.33      0.13        21\n",
      "           4       0.91      0.45      0.60      5110\n",
      "           5       0.33      0.87      0.48      1445\n",
      "           6       0.24      0.30      0.26       394\n",
      "           7       0.61      0.80      0.69       138\n",
      "           8       0.86      0.50      0.63        36\n",
      "           9       0.36      0.14      0.20        29\n",
      "       Otros       0.00      0.00      0.00         1\n",
      "\n",
      "    accuracy                           0.52      7283\n",
      "   macro avg       0.26      0.26      0.23      7283\n",
      "weighted avg       0.73      0.52      0.55      7283\n",
      "\n"
     ]
    },
    {
     "name": "stderr",
     "output_type": "stream",
     "text": [
      "/home/user007/anaconda3/envs/base_clone/lib/python3.12/site-packages/sklearn/metrics/_classification.py:1509: UndefinedMetricWarning: Precision is ill-defined and being set to 0.0 in labels with no predicted samples. Use `zero_division` parameter to control this behavior.\n",
      "  _warn_prf(average, modifier, f\"{metric.capitalize()} is\", len(result))\n",
      "/home/user007/anaconda3/envs/base_clone/lib/python3.12/site-packages/sklearn/metrics/_classification.py:1509: UndefinedMetricWarning: Recall is ill-defined and being set to 0.0 in labels with no true samples. Use `zero_division` parameter to control this behavior.\n",
      "  _warn_prf(average, modifier, f\"{metric.capitalize()} is\", len(result))\n",
      "/home/user007/anaconda3/envs/base_clone/lib/python3.12/site-packages/sklearn/metrics/_classification.py:1509: UndefinedMetricWarning: Precision is ill-defined and being set to 0.0 in labels with no predicted samples. Use `zero_division` parameter to control this behavior.\n",
      "  _warn_prf(average, modifier, f\"{metric.capitalize()} is\", len(result))\n",
      "/home/user007/anaconda3/envs/base_clone/lib/python3.12/site-packages/sklearn/metrics/_classification.py:1509: UndefinedMetricWarning: Recall is ill-defined and being set to 0.0 in labels with no true samples. Use `zero_division` parameter to control this behavior.\n",
      "  _warn_prf(average, modifier, f\"{metric.capitalize()} is\", len(result))\n",
      "/home/user007/anaconda3/envs/base_clone/lib/python3.12/site-packages/sklearn/metrics/_classification.py:1509: UndefinedMetricWarning: Precision is ill-defined and being set to 0.0 in labels with no predicted samples. Use `zero_division` parameter to control this behavior.\n",
      "  _warn_prf(average, modifier, f\"{metric.capitalize()} is\", len(result))\n",
      "/home/user007/anaconda3/envs/base_clone/lib/python3.12/site-packages/sklearn/metrics/_classification.py:1509: UndefinedMetricWarning: Recall is ill-defined and being set to 0.0 in labels with no true samples. Use `zero_division` parameter to control this behavior.\n",
      "  _warn_prf(average, modifier, f\"{metric.capitalize()} is\", len(result))\n"
     ]
    },
    {
     "ename": "ValueError",
     "evalue": "X has 11 features, but StandardScaler is expecting 5000 features as input.",
     "output_type": "error",
     "traceback": [
      "\u001b[0;31m---------------------------------------------------------------------------\u001b[0m",
      "\u001b[0;31mValueError\u001b[0m                                Traceback (most recent call last)",
      "Cell \u001b[0;32mIn[33], line 81\u001b[0m\n\u001b[1;32m     79\u001b[0m \u001b[38;5;66;03m# Para el nuevo ticket, primero lo escalamos\u001b[39;00m\n\u001b[1;32m     80\u001b[0m nuevo_ticket \u001b[38;5;241m=\u001b[39m [[\u001b[38;5;241m5\u001b[39m, \u001b[38;5;241m20\u001b[39m, \u001b[38;5;241m0\u001b[39m, \u001b[38;5;241m2\u001b[39m, \u001b[38;5;241m0\u001b[39m, \u001b[38;5;241m8\u001b[39m, \u001b[38;5;241m1\u001b[39m, \u001b[38;5;241m0\u001b[39m, \u001b[38;5;241m3\u001b[39m, \u001b[38;5;241m4\u001b[39m, \u001b[38;5;241m1\u001b[39m]]  \u001b[38;5;66;03m# Ejemplo del nuevo ticket\u001b[39;00m\n\u001b[0;32m---> 81\u001b[0m nuevo_ticket_scaled \u001b[38;5;241m=\u001b[39m scaler\u001b[38;5;241m.\u001b[39mtransform(nuevo_ticket)  \u001b[38;5;66;03m# Aplicamos la misma transformación\u001b[39;00m\n\u001b[1;32m     83\u001b[0m \u001b[38;5;66;03m# Hacer la predicción para el nuevo ticket escalado\u001b[39;00m\n\u001b[1;32m     84\u001b[0m prediccion_nuevo_ticket \u001b[38;5;241m=\u001b[39m best_model_with_weights\u001b[38;5;241m.\u001b[39mpredict(nuevo_ticket_scaled)\n",
      "File \u001b[0;32m~/anaconda3/envs/base_clone/lib/python3.12/site-packages/sklearn/utils/_set_output.py:295\u001b[0m, in \u001b[0;36m_wrap_method_output.<locals>.wrapped\u001b[0;34m(self, X, *args, **kwargs)\u001b[0m\n\u001b[1;32m    293\u001b[0m \u001b[38;5;129m@wraps\u001b[39m(f)\n\u001b[1;32m    294\u001b[0m \u001b[38;5;28;01mdef\u001b[39;00m \u001b[38;5;21mwrapped\u001b[39m(\u001b[38;5;28mself\u001b[39m, X, \u001b[38;5;241m*\u001b[39margs, \u001b[38;5;241m*\u001b[39m\u001b[38;5;241m*\u001b[39mkwargs):\n\u001b[0;32m--> 295\u001b[0m     data_to_wrap \u001b[38;5;241m=\u001b[39m f(\u001b[38;5;28mself\u001b[39m, X, \u001b[38;5;241m*\u001b[39margs, \u001b[38;5;241m*\u001b[39m\u001b[38;5;241m*\u001b[39mkwargs)\n\u001b[1;32m    296\u001b[0m     \u001b[38;5;28;01mif\u001b[39;00m \u001b[38;5;28misinstance\u001b[39m(data_to_wrap, \u001b[38;5;28mtuple\u001b[39m):\n\u001b[1;32m    297\u001b[0m         \u001b[38;5;66;03m# only wrap the first output for cross decomposition\u001b[39;00m\n\u001b[1;32m    298\u001b[0m         return_tuple \u001b[38;5;241m=\u001b[39m (\n\u001b[1;32m    299\u001b[0m             _wrap_data_with_container(method, data_to_wrap[\u001b[38;5;241m0\u001b[39m], X, \u001b[38;5;28mself\u001b[39m),\n\u001b[1;32m    300\u001b[0m             \u001b[38;5;241m*\u001b[39mdata_to_wrap[\u001b[38;5;241m1\u001b[39m:],\n\u001b[1;32m    301\u001b[0m         )\n",
      "File \u001b[0;32m~/anaconda3/envs/base_clone/lib/python3.12/site-packages/sklearn/preprocessing/_data.py:1043\u001b[0m, in \u001b[0;36mStandardScaler.transform\u001b[0;34m(self, X, copy)\u001b[0m\n\u001b[1;32m   1040\u001b[0m check_is_fitted(\u001b[38;5;28mself\u001b[39m)\n\u001b[1;32m   1042\u001b[0m copy \u001b[38;5;241m=\u001b[39m copy \u001b[38;5;28;01mif\u001b[39;00m copy \u001b[38;5;129;01mis\u001b[39;00m \u001b[38;5;129;01mnot\u001b[39;00m \u001b[38;5;28;01mNone\u001b[39;00m \u001b[38;5;28;01melse\u001b[39;00m \u001b[38;5;28mself\u001b[39m\u001b[38;5;241m.\u001b[39mcopy\n\u001b[0;32m-> 1043\u001b[0m X \u001b[38;5;241m=\u001b[39m \u001b[38;5;28mself\u001b[39m\u001b[38;5;241m.\u001b[39m_validate_data(\n\u001b[1;32m   1044\u001b[0m     X,\n\u001b[1;32m   1045\u001b[0m     reset\u001b[38;5;241m=\u001b[39m\u001b[38;5;28;01mFalse\u001b[39;00m,\n\u001b[1;32m   1046\u001b[0m     accept_sparse\u001b[38;5;241m=\u001b[39m\u001b[38;5;124m\"\u001b[39m\u001b[38;5;124mcsr\u001b[39m\u001b[38;5;124m\"\u001b[39m,\n\u001b[1;32m   1047\u001b[0m     copy\u001b[38;5;241m=\u001b[39mcopy,\n\u001b[1;32m   1048\u001b[0m     dtype\u001b[38;5;241m=\u001b[39mFLOAT_DTYPES,\n\u001b[1;32m   1049\u001b[0m     force_all_finite\u001b[38;5;241m=\u001b[39m\u001b[38;5;124m\"\u001b[39m\u001b[38;5;124mallow-nan\u001b[39m\u001b[38;5;124m\"\u001b[39m,\n\u001b[1;32m   1050\u001b[0m )\n\u001b[1;32m   1052\u001b[0m \u001b[38;5;28;01mif\u001b[39;00m sparse\u001b[38;5;241m.\u001b[39missparse(X):\n\u001b[1;32m   1053\u001b[0m     \u001b[38;5;28;01mif\u001b[39;00m \u001b[38;5;28mself\u001b[39m\u001b[38;5;241m.\u001b[39mwith_mean:\n",
      "File \u001b[0;32m~/anaconda3/envs/base_clone/lib/python3.12/site-packages/sklearn/base.py:654\u001b[0m, in \u001b[0;36mBaseEstimator._validate_data\u001b[0;34m(self, X, y, reset, validate_separately, cast_to_ndarray, **check_params)\u001b[0m\n\u001b[1;32m    651\u001b[0m     out \u001b[38;5;241m=\u001b[39m X, y\n\u001b[1;32m    653\u001b[0m \u001b[38;5;28;01mif\u001b[39;00m \u001b[38;5;129;01mnot\u001b[39;00m no_val_X \u001b[38;5;129;01mand\u001b[39;00m check_params\u001b[38;5;241m.\u001b[39mget(\u001b[38;5;124m\"\u001b[39m\u001b[38;5;124mensure_2d\u001b[39m\u001b[38;5;124m\"\u001b[39m, \u001b[38;5;28;01mTrue\u001b[39;00m):\n\u001b[0;32m--> 654\u001b[0m     \u001b[38;5;28mself\u001b[39m\u001b[38;5;241m.\u001b[39m_check_n_features(X, reset\u001b[38;5;241m=\u001b[39mreset)\n\u001b[1;32m    656\u001b[0m \u001b[38;5;28;01mreturn\u001b[39;00m out\n",
      "File \u001b[0;32m~/anaconda3/envs/base_clone/lib/python3.12/site-packages/sklearn/base.py:443\u001b[0m, in \u001b[0;36mBaseEstimator._check_n_features\u001b[0;34m(self, X, reset)\u001b[0m\n\u001b[1;32m    440\u001b[0m     \u001b[38;5;28;01mreturn\u001b[39;00m\n\u001b[1;32m    442\u001b[0m \u001b[38;5;28;01mif\u001b[39;00m n_features \u001b[38;5;241m!=\u001b[39m \u001b[38;5;28mself\u001b[39m\u001b[38;5;241m.\u001b[39mn_features_in_:\n\u001b[0;32m--> 443\u001b[0m     \u001b[38;5;28;01mraise\u001b[39;00m \u001b[38;5;167;01mValueError\u001b[39;00m(\n\u001b[1;32m    444\u001b[0m         \u001b[38;5;124mf\u001b[39m\u001b[38;5;124m\"\u001b[39m\u001b[38;5;124mX has \u001b[39m\u001b[38;5;132;01m{\u001b[39;00mn_features\u001b[38;5;132;01m}\u001b[39;00m\u001b[38;5;124m features, but \u001b[39m\u001b[38;5;132;01m{\u001b[39;00m\u001b[38;5;28mself\u001b[39m\u001b[38;5;241m.\u001b[39m\u001b[38;5;18m__class__\u001b[39m\u001b[38;5;241m.\u001b[39m\u001b[38;5;18m__name__\u001b[39m\u001b[38;5;132;01m}\u001b[39;00m\u001b[38;5;124m \u001b[39m\u001b[38;5;124m\"\u001b[39m\n\u001b[1;32m    445\u001b[0m         \u001b[38;5;124mf\u001b[39m\u001b[38;5;124m\"\u001b[39m\u001b[38;5;124mis expecting \u001b[39m\u001b[38;5;132;01m{\u001b[39;00m\u001b[38;5;28mself\u001b[39m\u001b[38;5;241m.\u001b[39mn_features_in_\u001b[38;5;132;01m}\u001b[39;00m\u001b[38;5;124m features as input.\u001b[39m\u001b[38;5;124m\"\u001b[39m\n\u001b[1;32m    446\u001b[0m     )\n",
      "\u001b[0;31mValueError\u001b[0m: X has 11 features, but StandardScaler is expecting 5000 features as input."
     ]
    }
   ],
   "source": [
    "from sklearn.preprocessing import LabelEncoder\n",
    "from sklearn.ensemble import RandomForestClassifier\n",
    "from sklearn.model_selection import GridSearchCV\n",
    "from sklearn.metrics import classification_report\n",
    "from imblearn.over_sampling import SMOTE\n",
    "import numpy as np\n",
    "import seaborn as sns\n",
    "import matplotlib.pyplot as plt\n",
    "from sklearn.preprocessing import StandardScaler\n",
    "\n",
    "# Asegúrate de que las etiquetas estén consistentes\n",
    "y_test = [str(label) for label in y_test]  # Convertir a cadenas de texto\n",
    "y_test_pred_adjusted = [str(label) for label in y_test_pred_adjusted]  # Convertir a cadenas de texto\n",
    "\n",
    "# Asegurarte de que `le` esté definido correctamente\n",
    "le = LabelEncoder()\n",
    "le.fit(y_train)  # Asegúrate de usar el conjunto de entrenamiento original\n",
    "\n",
    "# Aplicar escalado desactivando el centrado\n",
    "scaler = StandardScaler(with_mean=False)  # Desactivamos el centrado\n",
    "X_train_scaled = scaler.fit_transform(X_train)\n",
    "\n",
    "\n",
    "# Matriz de confusión corregida\n",
    "plt.figure(figsize=(10, 7))\n",
    "sns.heatmap(conf_matrix, annot=True, fmt=\"d\", cmap=\"Blues\", \n",
    "            xticklabels=le.classes_, yticklabels=le.classes_)\n",
    "plt.xlabel('Predicción')\n",
    "plt.ylabel('Real')\n",
    "plt.title('Matriz de Confusión (Prueba)')\n",
    "plt.show()\n",
    "\n",
    "# Ajuste de pesos para clases desequilibradas\n",
    "model_with_weights = RandomForestClassifier(random_state=42, class_weight='balanced')\n",
    "param_grid = {  # Asegúrate de definir tu grid de parámetros\n",
    "    'n_estimators': [50, 100, 200],\n",
    "    'max_depth': [None, 10, 20],\n",
    "    'min_samples_split': [2, 5, 10]\n",
    "}\n",
    "grid_search_with_weights = GridSearchCV(estimator=model_with_weights, param_grid=param_grid, cv=5, n_jobs=-1, scoring='accuracy')\n",
    "grid_search_with_weights.fit(X_train_scaled, y_train)\n",
    "\n",
    "# Resultados del nuevo modelo\n",
    "best_model_with_weights = grid_search_with_weights.best_estimator_\n",
    "y_test_pred_with_weights = best_model_with_weights.predict(X_test)\n",
    "\n",
    "# Métricas detalladas para el modelo ajustado\n",
    "print(\"Reporte de clasificación con ajuste de pesos:\")\n",
    "print(classification_report(y_test, y_test_pred_with_weights))\n",
    "\n",
    "# Validar clases minoritarias y reagrupar si es necesario\n",
    "minor_classes = ['Clase1', 'Clase2']  # Reemplaza con tus clases reales\n",
    "y_train_adjusted = y_train.copy()\n",
    "y_train_adjusted[y_train_adjusted.isin(minor_classes)] = 'OtrosAgrupados'\n",
    "\n",
    "# Volver a entrenar con clases agrupadas si es necesario\n",
    "le_adjusted = LabelEncoder()\n",
    "y_train_adjusted_encoded = le_adjusted.fit_transform(y_train_adjusted)\n",
    "\n",
    "# Realizar SMOTE si es necesario\n",
    "smote = SMOTE(random_state=42)\n",
    "X_train_adjusted_balanced, y_train_adjusted_balanced = smote.fit_resample(X_train_scaled, y_train_adjusted_encoded)\n",
    "\n",
    "# Entrenamiento del modelo ajustado\n",
    "model_adjusted = RandomForestClassifier(random_state=42)\n",
    "model_adjusted.fit(X_train_adjusted_balanced, y_train_adjusted_balanced)\n",
    "\n",
    "# Predicción y evaluación con el modelo ajustado\n",
    "y_test_pred_adjusted = model_adjusted.predict(X_test)\n",
    "\n",
    "# Asegurarse de que las etiquetas estén en formato consistente\n",
    "y_test = [str(label) for label in y_test]  # Convertir a cadenas de texto\n",
    "y_test_pred_adjusted = [str(label) for label in y_test_pred_adjusted]  # Convertir a cadenas de texto\n",
    "\n",
    "# Evaluación con métricas\n",
    "print(\"Reporte de clasificación con clases agrupadas:\")\n",
    "print(classification_report(y_test, y_test_pred_adjusted))\n",
    "\n",
    "# Para el nuevo ticket, primero lo escalamos\n",
    "nuevo_ticket = [[5, 20, 0, 2, 0, 8, 1, 0, 3, 4, 1]]  # Ejemplo del nuevo ticket\n",
    "nuevo_ticket_scaled = scaler.transform(nuevo_ticket)  # Aplicamos la misma transformación\n",
    "\n",
    "# Hacer la predicción para el nuevo ticket escalado\n",
    "prediccion_nuevo_ticket = best_model_with_weights.predict(nuevo_ticket_scaled)\n",
    "print(f\"Predicción para el nuevo ticket: {prediccion_nuevo_ticket}\")\n"
   ]
  },
  {
   "cell_type": "code",
   "execution_count": 34,
   "id": "159fa369-9908-4bc4-bd9d-bcdc100e8bb5",
   "metadata": {},
   "outputs": [
    {
     "ename": "ValueError",
     "evalue": "X has 11 features, but StandardScaler is expecting 5000 features as input.",
     "output_type": "error",
     "traceback": [
      "\u001b[0;31m---------------------------------------------------------------------------\u001b[0m",
      "\u001b[0;31mValueError\u001b[0m                                Traceback (most recent call last)",
      "Cell \u001b[0;32mIn[34], line 8\u001b[0m\n\u001b[1;32m      2\u001b[0m nuevo_ticket \u001b[38;5;241m=\u001b[39m [[\u001b[38;5;241m5\u001b[39m, \u001b[38;5;241m20\u001b[39m, \u001b[38;5;241m0\u001b[39m, \u001b[38;5;241m2\u001b[39m, \u001b[38;5;241m0\u001b[39m, \u001b[38;5;241m8\u001b[39m, \u001b[38;5;241m1\u001b[39m, \u001b[38;5;241m0\u001b[39m, \u001b[38;5;241m3\u001b[39m, \u001b[38;5;241m4\u001b[39m, \u001b[38;5;241m1\u001b[39m]]  \u001b[38;5;66;03m# Este es el nuevo ticket\u001b[39;00m\n\u001b[1;32m      4\u001b[0m \u001b[38;5;66;03m# Preprocesar el nuevo ticket de la misma forma que X_train\u001b[39;00m\n\u001b[1;32m      5\u001b[0m \u001b[38;5;66;03m# Si has usado algún codificador o transformación, aplicarlo aquí también\u001b[39;00m\n\u001b[1;32m      6\u001b[0m \n\u001b[1;32m      7\u001b[0m \u001b[38;5;66;03m# Aplicar escalado al nuevo ticket con el mismo escalador\u001b[39;00m\n\u001b[0;32m----> 8\u001b[0m nuevo_ticket_scaled \u001b[38;5;241m=\u001b[39m scaler\u001b[38;5;241m.\u001b[39mtransform(nuevo_ticket)  \u001b[38;5;66;03m# Asegúrate de que el número de características coincida\u001b[39;00m\n\u001b[1;32m     10\u001b[0m \u001b[38;5;66;03m# Hacer la predicción con el modelo entrenado\u001b[39;00m\n\u001b[1;32m     11\u001b[0m prediccion_nuevo_ticket \u001b[38;5;241m=\u001b[39m best_model_with_weights\u001b[38;5;241m.\u001b[39mpredict(nuevo_ticket_scaled)\n",
      "File \u001b[0;32m~/anaconda3/envs/base_clone/lib/python3.12/site-packages/sklearn/utils/_set_output.py:295\u001b[0m, in \u001b[0;36m_wrap_method_output.<locals>.wrapped\u001b[0;34m(self, X, *args, **kwargs)\u001b[0m\n\u001b[1;32m    293\u001b[0m \u001b[38;5;129m@wraps\u001b[39m(f)\n\u001b[1;32m    294\u001b[0m \u001b[38;5;28;01mdef\u001b[39;00m \u001b[38;5;21mwrapped\u001b[39m(\u001b[38;5;28mself\u001b[39m, X, \u001b[38;5;241m*\u001b[39margs, \u001b[38;5;241m*\u001b[39m\u001b[38;5;241m*\u001b[39mkwargs):\n\u001b[0;32m--> 295\u001b[0m     data_to_wrap \u001b[38;5;241m=\u001b[39m f(\u001b[38;5;28mself\u001b[39m, X, \u001b[38;5;241m*\u001b[39margs, \u001b[38;5;241m*\u001b[39m\u001b[38;5;241m*\u001b[39mkwargs)\n\u001b[1;32m    296\u001b[0m     \u001b[38;5;28;01mif\u001b[39;00m \u001b[38;5;28misinstance\u001b[39m(data_to_wrap, \u001b[38;5;28mtuple\u001b[39m):\n\u001b[1;32m    297\u001b[0m         \u001b[38;5;66;03m# only wrap the first output for cross decomposition\u001b[39;00m\n\u001b[1;32m    298\u001b[0m         return_tuple \u001b[38;5;241m=\u001b[39m (\n\u001b[1;32m    299\u001b[0m             _wrap_data_with_container(method, data_to_wrap[\u001b[38;5;241m0\u001b[39m], X, \u001b[38;5;28mself\u001b[39m),\n\u001b[1;32m    300\u001b[0m             \u001b[38;5;241m*\u001b[39mdata_to_wrap[\u001b[38;5;241m1\u001b[39m:],\n\u001b[1;32m    301\u001b[0m         )\n",
      "File \u001b[0;32m~/anaconda3/envs/base_clone/lib/python3.12/site-packages/sklearn/preprocessing/_data.py:1043\u001b[0m, in \u001b[0;36mStandardScaler.transform\u001b[0;34m(self, X, copy)\u001b[0m\n\u001b[1;32m   1040\u001b[0m check_is_fitted(\u001b[38;5;28mself\u001b[39m)\n\u001b[1;32m   1042\u001b[0m copy \u001b[38;5;241m=\u001b[39m copy \u001b[38;5;28;01mif\u001b[39;00m copy \u001b[38;5;129;01mis\u001b[39;00m \u001b[38;5;129;01mnot\u001b[39;00m \u001b[38;5;28;01mNone\u001b[39;00m \u001b[38;5;28;01melse\u001b[39;00m \u001b[38;5;28mself\u001b[39m\u001b[38;5;241m.\u001b[39mcopy\n\u001b[0;32m-> 1043\u001b[0m X \u001b[38;5;241m=\u001b[39m \u001b[38;5;28mself\u001b[39m\u001b[38;5;241m.\u001b[39m_validate_data(\n\u001b[1;32m   1044\u001b[0m     X,\n\u001b[1;32m   1045\u001b[0m     reset\u001b[38;5;241m=\u001b[39m\u001b[38;5;28;01mFalse\u001b[39;00m,\n\u001b[1;32m   1046\u001b[0m     accept_sparse\u001b[38;5;241m=\u001b[39m\u001b[38;5;124m\"\u001b[39m\u001b[38;5;124mcsr\u001b[39m\u001b[38;5;124m\"\u001b[39m,\n\u001b[1;32m   1047\u001b[0m     copy\u001b[38;5;241m=\u001b[39mcopy,\n\u001b[1;32m   1048\u001b[0m     dtype\u001b[38;5;241m=\u001b[39mFLOAT_DTYPES,\n\u001b[1;32m   1049\u001b[0m     force_all_finite\u001b[38;5;241m=\u001b[39m\u001b[38;5;124m\"\u001b[39m\u001b[38;5;124mallow-nan\u001b[39m\u001b[38;5;124m\"\u001b[39m,\n\u001b[1;32m   1050\u001b[0m )\n\u001b[1;32m   1052\u001b[0m \u001b[38;5;28;01mif\u001b[39;00m sparse\u001b[38;5;241m.\u001b[39missparse(X):\n\u001b[1;32m   1053\u001b[0m     \u001b[38;5;28;01mif\u001b[39;00m \u001b[38;5;28mself\u001b[39m\u001b[38;5;241m.\u001b[39mwith_mean:\n",
      "File \u001b[0;32m~/anaconda3/envs/base_clone/lib/python3.12/site-packages/sklearn/base.py:654\u001b[0m, in \u001b[0;36mBaseEstimator._validate_data\u001b[0;34m(self, X, y, reset, validate_separately, cast_to_ndarray, **check_params)\u001b[0m\n\u001b[1;32m    651\u001b[0m     out \u001b[38;5;241m=\u001b[39m X, y\n\u001b[1;32m    653\u001b[0m \u001b[38;5;28;01mif\u001b[39;00m \u001b[38;5;129;01mnot\u001b[39;00m no_val_X \u001b[38;5;129;01mand\u001b[39;00m check_params\u001b[38;5;241m.\u001b[39mget(\u001b[38;5;124m\"\u001b[39m\u001b[38;5;124mensure_2d\u001b[39m\u001b[38;5;124m\"\u001b[39m, \u001b[38;5;28;01mTrue\u001b[39;00m):\n\u001b[0;32m--> 654\u001b[0m     \u001b[38;5;28mself\u001b[39m\u001b[38;5;241m.\u001b[39m_check_n_features(X, reset\u001b[38;5;241m=\u001b[39mreset)\n\u001b[1;32m    656\u001b[0m \u001b[38;5;28;01mreturn\u001b[39;00m out\n",
      "File \u001b[0;32m~/anaconda3/envs/base_clone/lib/python3.12/site-packages/sklearn/base.py:443\u001b[0m, in \u001b[0;36mBaseEstimator._check_n_features\u001b[0;34m(self, X, reset)\u001b[0m\n\u001b[1;32m    440\u001b[0m     \u001b[38;5;28;01mreturn\u001b[39;00m\n\u001b[1;32m    442\u001b[0m \u001b[38;5;28;01mif\u001b[39;00m n_features \u001b[38;5;241m!=\u001b[39m \u001b[38;5;28mself\u001b[39m\u001b[38;5;241m.\u001b[39mn_features_in_:\n\u001b[0;32m--> 443\u001b[0m     \u001b[38;5;28;01mraise\u001b[39;00m \u001b[38;5;167;01mValueError\u001b[39;00m(\n\u001b[1;32m    444\u001b[0m         \u001b[38;5;124mf\u001b[39m\u001b[38;5;124m\"\u001b[39m\u001b[38;5;124mX has \u001b[39m\u001b[38;5;132;01m{\u001b[39;00mn_features\u001b[38;5;132;01m}\u001b[39;00m\u001b[38;5;124m features, but \u001b[39m\u001b[38;5;132;01m{\u001b[39;00m\u001b[38;5;28mself\u001b[39m\u001b[38;5;241m.\u001b[39m\u001b[38;5;18m__class__\u001b[39m\u001b[38;5;241m.\u001b[39m\u001b[38;5;18m__name__\u001b[39m\u001b[38;5;132;01m}\u001b[39;00m\u001b[38;5;124m \u001b[39m\u001b[38;5;124m\"\u001b[39m\n\u001b[1;32m    445\u001b[0m         \u001b[38;5;124mf\u001b[39m\u001b[38;5;124m\"\u001b[39m\u001b[38;5;124mis expecting \u001b[39m\u001b[38;5;132;01m{\u001b[39;00m\u001b[38;5;28mself\u001b[39m\u001b[38;5;241m.\u001b[39mn_features_in_\u001b[38;5;132;01m}\u001b[39;00m\u001b[38;5;124m features as input.\u001b[39m\u001b[38;5;124m\"\u001b[39m\n\u001b[1;32m    446\u001b[0m     )\n",
      "\u001b[0;31mValueError\u001b[0m: X has 11 features, but StandardScaler is expecting 5000 features as input."
     ]
    }
   ],
   "source": [
    "# Verificar las columnas de X_train y asegurar que el nuevo ticket tenga las mismas características\n",
    "nuevo_ticket = [[5, 20, 0, 2, 0, 8, 1, 0, 3, 4, 1]]  # Este es el nuevo ticket\n",
    "\n",
    "# Preprocesar el nuevo ticket de la misma forma que X_train\n",
    "# Si has usado algún codificador o transformación, aplicarlo aquí también\n",
    "\n",
    "# Aplicar escalado al nuevo ticket con el mismo escalador\n",
    "nuevo_ticket_scaled = scaler.transform(nuevo_ticket)  # Asegúrate de que el número de características coincida\n",
    "\n",
    "# Hacer la predicción con el modelo entrenado\n",
    "prediccion_nuevo_ticket = best_model_with_weights.predict(nuevo_ticket_scaled)\n",
    "\n",
    "print(prediccion_nuevo_ticket)\n"
   ]
  },
  {
   "cell_type": "code",
   "execution_count": 35,
   "id": "15140959-1709-41ac-89ef-27b20f695d26",
   "metadata": {},
   "outputs": [
    {
     "name": "stdout",
     "output_type": "stream",
     "text": [
      "(33984, 5000)\n"
     ]
    }
   ],
   "source": [
    "print(X_train.shape)  # Muestra el número de filas y columnas (características)\n"
   ]
  },
  {
   "cell_type": "code",
   "execution_count": 36,
   "id": "ee442c8e-09f4-4037-8c37-d862d3a9c6e8",
   "metadata": {},
   "outputs": [
    {
     "ename": "TypeError",
     "evalue": "OneHotEncoder.__init__() got an unexpected keyword argument 'sparse'",
     "output_type": "error",
     "traceback": [
      "\u001b[0;31m---------------------------------------------------------------------------\u001b[0m",
      "\u001b[0;31mTypeError\u001b[0m                                 Traceback (most recent call last)",
      "Cell \u001b[0;32mIn[36], line 6\u001b[0m\n\u001b[1;32m      3\u001b[0m \u001b[38;5;28;01mfrom\u001b[39;00m \u001b[38;5;21;01msklearn\u001b[39;00m\u001b[38;5;21;01m.\u001b[39;00m\u001b[38;5;21;01mpreprocessing\u001b[39;00m \u001b[38;5;28;01mimport\u001b[39;00m OneHotEncoder, StandardScaler\n\u001b[1;32m      5\u001b[0m \u001b[38;5;66;03m# Si has usado un codificador OneHotEncoder en X_train\u001b[39;00m\n\u001b[0;32m----> 6\u001b[0m encoder \u001b[38;5;241m=\u001b[39m OneHotEncoder(sparse\u001b[38;5;241m=\u001b[39m\u001b[38;5;28;01mFalse\u001b[39;00m)\n\u001b[1;32m      7\u001b[0m encoder\u001b[38;5;241m.\u001b[39mfit(X_train[[\u001b[38;5;124m'\u001b[39m\u001b[38;5;124mcategorical_column\u001b[39m\u001b[38;5;124m'\u001b[39m]])  \u001b[38;5;66;03m# Asegúrate de usar la misma columna\u001b[39;00m\n\u001b[1;32m      8\u001b[0m nuevo_ticket_encoded \u001b[38;5;241m=\u001b[39m encoder\u001b[38;5;241m.\u001b[39mtransform([[\u001b[38;5;124m'\u001b[39m\u001b[38;5;124mvalue1\u001b[39m\u001b[38;5;124m'\u001b[39m, \u001b[38;5;124m'\u001b[39m\u001b[38;5;124mvalue2\u001b[39m\u001b[38;5;124m'\u001b[39m, \u001b[38;5;241m.\u001b[39m\u001b[38;5;241m.\u001b[39m\u001b[38;5;241m.\u001b[39m]])  \u001b[38;5;66;03m# Codifica el nuevo ticket\u001b[39;00m\n",
      "\u001b[0;31mTypeError\u001b[0m: OneHotEncoder.__init__() got an unexpected keyword argument 'sparse'"
     ]
    }
   ],
   "source": [
    "# Si has utilizado un codificador o transformaciones en X_train, aplícalas de nuevo a nuevo_ticket\n",
    "# Ejemplo con OneHotEncoder\n",
    "from sklearn.preprocessing import OneHotEncoder, StandardScaler\n",
    "\n",
    "# Si has usado un codificador OneHotEncoder en X_train\n",
    "encoder = OneHotEncoder(sparse=False)\n",
    "encoder.fit(X_train[['categorical_column']])  # Asegúrate de usar la misma columna\n",
    "nuevo_ticket_encoded = encoder.transform([['value1', 'value2', ...]])  # Codifica el nuevo ticket\n",
    "\n",
    "# Ahora aplica el escalado\n",
    "scaler = StandardScaler()\n",
    "nuevo_ticket_scaled = scaler.fit_transform(nuevo_ticket_encoded)  # Escala de la misma forma\n",
    "\n",
    "# Ahora nuevo_ticket_scaled debe tener las mismas características que X_train\n",
    "# Haz la predicción con el modelo\n",
    "prediccion_nuevo_ticket = best_model_with_weights.predict(nuevo_ticket_scaled)\n",
    "\n",
    "print(prediccion_nuevo_ticket)\n"
   ]
  },
  {
   "cell_type": "code",
   "execution_count": 37,
   "id": "41177b43-8f22-4d3a-9a3f-22d9373f1d94",
   "metadata": {},
   "outputs": [
    {
     "ename": "UFuncTypeError",
     "evalue": "ufunc 'maximum' did not contain a loop with signature matching types (dtype('<U18'), dtype('<U18')) -> None",
     "output_type": "error",
     "traceback": [
      "\u001b[0;31m---------------------------------------------------------------------------\u001b[0m",
      "\u001b[0;31mUFuncTypeError\u001b[0m                            Traceback (most recent call last)",
      "Cell \u001b[0;32mIn[37], line 5\u001b[0m\n\u001b[1;32m      3\u001b[0m \u001b[38;5;66;03m# Si has usado un codificador OneHotEncoder en X_train\u001b[39;00m\n\u001b[1;32m      4\u001b[0m encoder \u001b[38;5;241m=\u001b[39m OneHotEncoder(sparse_output\u001b[38;5;241m=\u001b[39m\u001b[38;5;28;01mFalse\u001b[39;00m)  \u001b[38;5;66;03m# Cambié 'sparse' a 'sparse_output'\u001b[39;00m\n\u001b[0;32m----> 5\u001b[0m encoder\u001b[38;5;241m.\u001b[39mfit(X_train[[\u001b[38;5;124m'\u001b[39m\u001b[38;5;124mcategorical_column\u001b[39m\u001b[38;5;124m'\u001b[39m]])  \u001b[38;5;66;03m# Asegúrate de usar la misma columna\u001b[39;00m\n\u001b[1;32m      6\u001b[0m nuevo_ticket_encoded \u001b[38;5;241m=\u001b[39m encoder\u001b[38;5;241m.\u001b[39mtransform([[\u001b[38;5;124m'\u001b[39m\u001b[38;5;124mvalue1\u001b[39m\u001b[38;5;124m'\u001b[39m, \u001b[38;5;124m'\u001b[39m\u001b[38;5;124mvalue2\u001b[39m\u001b[38;5;124m'\u001b[39m, \u001b[38;5;241m.\u001b[39m\u001b[38;5;241m.\u001b[39m\u001b[38;5;241m.\u001b[39m]])  \u001b[38;5;66;03m# Codifica el nuevo ticket\u001b[39;00m\n\u001b[1;32m      8\u001b[0m \u001b[38;5;66;03m# Ahora aplica el escalado\u001b[39;00m\n",
      "File \u001b[0;32m~/anaconda3/envs/base_clone/lib/python3.12/site-packages/scipy/sparse/_index.py:52\u001b[0m, in \u001b[0;36mIndexMixin.__getitem__\u001b[0;34m(self, key)\u001b[0m\n\u001b[1;32m     51\u001b[0m \u001b[38;5;28;01mdef\u001b[39;00m \u001b[38;5;21m__getitem__\u001b[39m(\u001b[38;5;28mself\u001b[39m, key):\n\u001b[0;32m---> 52\u001b[0m     row, col \u001b[38;5;241m=\u001b[39m \u001b[38;5;28mself\u001b[39m\u001b[38;5;241m.\u001b[39m_validate_indices(key)\n\u001b[1;32m     54\u001b[0m     \u001b[38;5;66;03m# Dispatch to specialized methods.\u001b[39;00m\n\u001b[1;32m     55\u001b[0m     \u001b[38;5;28;01mif\u001b[39;00m \u001b[38;5;28misinstance\u001b[39m(row, INT_TYPES):\n",
      "File \u001b[0;32m~/anaconda3/envs/base_clone/lib/python3.12/site-packages/scipy/sparse/_index.py:186\u001b[0m, in \u001b[0;36mIndexMixin._validate_indices\u001b[0;34m(self, key)\u001b[0m\n\u001b[1;32m    184\u001b[0m     row \u001b[38;5;241m=\u001b[39m _validate_bool_idx(bool_row, M, \u001b[38;5;124m\"\u001b[39m\u001b[38;5;124mrow\u001b[39m\u001b[38;5;124m\"\u001b[39m)\n\u001b[1;32m    185\u001b[0m \u001b[38;5;28;01melif\u001b[39;00m \u001b[38;5;129;01mnot\u001b[39;00m \u001b[38;5;28misinstance\u001b[39m(row, \u001b[38;5;28mslice\u001b[39m):\n\u001b[0;32m--> 186\u001b[0m     row \u001b[38;5;241m=\u001b[39m \u001b[38;5;28mself\u001b[39m\u001b[38;5;241m.\u001b[39m_asindices(row, M)\n\u001b[1;32m    188\u001b[0m \u001b[38;5;28;01mif\u001b[39;00m isintlike(col):\n\u001b[1;32m    189\u001b[0m     col \u001b[38;5;241m=\u001b[39m \u001b[38;5;28mint\u001b[39m(col)\n",
      "File \u001b[0;32m~/anaconda3/envs/base_clone/lib/python3.12/site-packages/scipy/sparse/_index.py:218\u001b[0m, in \u001b[0;36mIndexMixin._asindices\u001b[0;34m(self, idx, length)\u001b[0m\n\u001b[1;32m    215\u001b[0m     \u001b[38;5;28;01mreturn\u001b[39;00m x\n\u001b[1;32m    217\u001b[0m \u001b[38;5;66;03m# Check bounds\u001b[39;00m\n\u001b[0;32m--> 218\u001b[0m max_indx \u001b[38;5;241m=\u001b[39m x\u001b[38;5;241m.\u001b[39mmax()\n\u001b[1;32m    219\u001b[0m \u001b[38;5;28;01mif\u001b[39;00m max_indx \u001b[38;5;241m>\u001b[39m\u001b[38;5;241m=\u001b[39m length:\n\u001b[1;32m    220\u001b[0m     \u001b[38;5;28;01mraise\u001b[39;00m \u001b[38;5;167;01mIndexError\u001b[39;00m(\u001b[38;5;124m'\u001b[39m\u001b[38;5;124mindex (\u001b[39m\u001b[38;5;132;01m%d\u001b[39;00m\u001b[38;5;124m) out of range\u001b[39m\u001b[38;5;124m'\u001b[39m \u001b[38;5;241m%\u001b[39m max_indx)\n",
      "File \u001b[0;32m~/anaconda3/envs/base_clone/lib/python3.12/site-packages/numpy/core/_methods.py:41\u001b[0m, in \u001b[0;36m_amax\u001b[0;34m(a, axis, out, keepdims, initial, where)\u001b[0m\n\u001b[1;32m     39\u001b[0m \u001b[38;5;28;01mdef\u001b[39;00m \u001b[38;5;21m_amax\u001b[39m(a, axis\u001b[38;5;241m=\u001b[39m\u001b[38;5;28;01mNone\u001b[39;00m, out\u001b[38;5;241m=\u001b[39m\u001b[38;5;28;01mNone\u001b[39;00m, keepdims\u001b[38;5;241m=\u001b[39m\u001b[38;5;28;01mFalse\u001b[39;00m,\n\u001b[1;32m     40\u001b[0m           initial\u001b[38;5;241m=\u001b[39m_NoValue, where\u001b[38;5;241m=\u001b[39m\u001b[38;5;28;01mTrue\u001b[39;00m):\n\u001b[0;32m---> 41\u001b[0m     \u001b[38;5;28;01mreturn\u001b[39;00m umr_maximum(a, axis, \u001b[38;5;28;01mNone\u001b[39;00m, out, keepdims, initial, where)\n",
      "\u001b[0;31mUFuncTypeError\u001b[0m: ufunc 'maximum' did not contain a loop with signature matching types (dtype('<U18'), dtype('<U18')) -> None"
     ]
    }
   ],
   "source": [
    "from sklearn.preprocessing import OneHotEncoder, StandardScaler\n",
    "\n",
    "# Si has usado un codificador OneHotEncoder en X_train\n",
    "encoder = OneHotEncoder(sparse_output=False)  # Cambié 'sparse' a 'sparse_output'\n",
    "encoder.fit(X_train[['categorical_column']])  # Asegúrate de usar la misma columna\n",
    "nuevo_ticket_encoded = encoder.transform([['value1', 'value2', ...]])  # Codifica el nuevo ticket\n",
    "\n",
    "# Ahora aplica el escalado\n",
    "scaler = StandardScaler()\n",
    "nuevo_ticket_scaled = scaler.fit_transform(nuevo_ticket_encoded)  # Escala de la misma forma\n",
    "\n",
    "# Ahora nuevo_ticket_scaled debe tener las mismas características que X_train\n",
    "# Haz la predicción con el modelo\n",
    "prediccion_nuevo_ticket = best_model_with_weights.predict(nuevo_ticket_scaled)\n",
    "\n",
    "print(prediccion_nuevo_ticket)\n"
   ]
  },
  {
   "cell_type": "code",
   "execution_count": 38,
   "id": "76805f1e-37ec-482c-a8b5-989039ac60c7",
   "metadata": {},
   "outputs": [
    {
     "ename": "IndexError",
     "evalue": "Index dimension must be 1 or 2",
     "output_type": "error",
     "traceback": [
      "\u001b[0;31m---------------------------------------------------------------------------\u001b[0m",
      "\u001b[0;31mIndexError\u001b[0m                                Traceback (most recent call last)",
      "Cell \u001b[0;32mIn[38], line 2\u001b[0m\n\u001b[1;32m      1\u001b[0m \u001b[38;5;66;03m# Verifica el tipo de la columna\u001b[39;00m\n\u001b[0;32m----> 2\u001b[0m \u001b[38;5;28mprint\u001b[39m(X_train[\u001b[38;5;124m'\u001b[39m\u001b[38;5;124mcategorical_column\u001b[39m\u001b[38;5;124m'\u001b[39m]\u001b[38;5;241m.\u001b[39mdtype)\n\u001b[1;32m      4\u001b[0m \u001b[38;5;66;03m# Si no es de tipo 'object', conviértelo\u001b[39;00m\n\u001b[1;32m      5\u001b[0m X_train[\u001b[38;5;124m'\u001b[39m\u001b[38;5;124mcategorical_column\u001b[39m\u001b[38;5;124m'\u001b[39m] \u001b[38;5;241m=\u001b[39m X_train[\u001b[38;5;124m'\u001b[39m\u001b[38;5;124mcategorical_column\u001b[39m\u001b[38;5;124m'\u001b[39m]\u001b[38;5;241m.\u001b[39mastype(\u001b[38;5;28mstr\u001b[39m)\n",
      "File \u001b[0;32m~/anaconda3/envs/base_clone/lib/python3.12/site-packages/scipy/sparse/_index.py:52\u001b[0m, in \u001b[0;36mIndexMixin.__getitem__\u001b[0;34m(self, key)\u001b[0m\n\u001b[1;32m     51\u001b[0m \u001b[38;5;28;01mdef\u001b[39;00m \u001b[38;5;21m__getitem__\u001b[39m(\u001b[38;5;28mself\u001b[39m, key):\n\u001b[0;32m---> 52\u001b[0m     row, col \u001b[38;5;241m=\u001b[39m \u001b[38;5;28mself\u001b[39m\u001b[38;5;241m.\u001b[39m_validate_indices(key)\n\u001b[1;32m     54\u001b[0m     \u001b[38;5;66;03m# Dispatch to specialized methods.\u001b[39;00m\n\u001b[1;32m     55\u001b[0m     \u001b[38;5;28;01mif\u001b[39;00m \u001b[38;5;28misinstance\u001b[39m(row, INT_TYPES):\n",
      "File \u001b[0;32m~/anaconda3/envs/base_clone/lib/python3.12/site-packages/scipy/sparse/_index.py:186\u001b[0m, in \u001b[0;36mIndexMixin._validate_indices\u001b[0;34m(self, key)\u001b[0m\n\u001b[1;32m    184\u001b[0m     row \u001b[38;5;241m=\u001b[39m _validate_bool_idx(bool_row, M, \u001b[38;5;124m\"\u001b[39m\u001b[38;5;124mrow\u001b[39m\u001b[38;5;124m\"\u001b[39m)\n\u001b[1;32m    185\u001b[0m \u001b[38;5;28;01melif\u001b[39;00m \u001b[38;5;129;01mnot\u001b[39;00m \u001b[38;5;28misinstance\u001b[39m(row, \u001b[38;5;28mslice\u001b[39m):\n\u001b[0;32m--> 186\u001b[0m     row \u001b[38;5;241m=\u001b[39m \u001b[38;5;28mself\u001b[39m\u001b[38;5;241m.\u001b[39m_asindices(row, M)\n\u001b[1;32m    188\u001b[0m \u001b[38;5;28;01mif\u001b[39;00m isintlike(col):\n\u001b[1;32m    189\u001b[0m     col \u001b[38;5;241m=\u001b[39m \u001b[38;5;28mint\u001b[39m(col)\n",
      "File \u001b[0;32m~/anaconda3/envs/base_clone/lib/python3.12/site-packages/scipy/sparse/_index.py:212\u001b[0m, in \u001b[0;36mIndexMixin._asindices\u001b[0;34m(self, idx, length)\u001b[0m\n\u001b[1;32m    209\u001b[0m     \u001b[38;5;28;01mraise\u001b[39;00m \u001b[38;5;167;01mIndexError\u001b[39;00m(\u001b[38;5;124m'\u001b[39m\u001b[38;5;124minvalid index\u001b[39m\u001b[38;5;124m'\u001b[39m) \u001b[38;5;28;01mfrom\u001b[39;00m \u001b[38;5;21;01me\u001b[39;00m\n\u001b[1;32m    211\u001b[0m \u001b[38;5;28;01mif\u001b[39;00m x\u001b[38;5;241m.\u001b[39mndim \u001b[38;5;129;01mnot\u001b[39;00m \u001b[38;5;129;01min\u001b[39;00m (\u001b[38;5;241m1\u001b[39m, \u001b[38;5;241m2\u001b[39m):\n\u001b[0;32m--> 212\u001b[0m     \u001b[38;5;28;01mraise\u001b[39;00m \u001b[38;5;167;01mIndexError\u001b[39;00m(\u001b[38;5;124m'\u001b[39m\u001b[38;5;124mIndex dimension must be 1 or 2\u001b[39m\u001b[38;5;124m'\u001b[39m)\n\u001b[1;32m    214\u001b[0m \u001b[38;5;28;01mif\u001b[39;00m x\u001b[38;5;241m.\u001b[39msize \u001b[38;5;241m==\u001b[39m \u001b[38;5;241m0\u001b[39m:\n\u001b[1;32m    215\u001b[0m     \u001b[38;5;28;01mreturn\u001b[39;00m x\n",
      "\u001b[0;31mIndexError\u001b[0m: Index dimension must be 1 or 2"
     ]
    }
   ],
   "source": [
    "# Verifica el tipo de la columna\n",
    "print(X_train['categorical_column'].dtype)\n",
    "\n",
    "# Si no es de tipo 'object', conviértelo\n",
    "X_train['categorical_column'] = X_train['categorical_column'].astype(str)\n"
   ]
  },
  {
   "cell_type": "code",
   "execution_count": 39,
   "id": "a1c4e3f0-4cf4-4d7d-bb10-9c0f0dba7e1f",
   "metadata": {},
   "outputs": [
    {
     "ename": "ValueError",
     "evalue": "X_train debe ser un pandas DataFrame.",
     "output_type": "error",
     "traceback": [
      "\u001b[0;31m---------------------------------------------------------------------------\u001b[0m",
      "\u001b[0;31mValueError\u001b[0m                                Traceback (most recent call last)",
      "Cell \u001b[0;32mIn[39], line 6\u001b[0m\n\u001b[1;32m      4\u001b[0m \u001b[38;5;66;03m# Verifica que X_train sea un DataFrame\u001b[39;00m\n\u001b[1;32m      5\u001b[0m \u001b[38;5;28;01mif\u001b[39;00m \u001b[38;5;129;01mnot\u001b[39;00m \u001b[38;5;28misinstance\u001b[39m(X_train, pd\u001b[38;5;241m.\u001b[39mDataFrame):\n\u001b[0;32m----> 6\u001b[0m     \u001b[38;5;28;01mraise\u001b[39;00m \u001b[38;5;167;01mValueError\u001b[39;00m(\u001b[38;5;124m\"\u001b[39m\u001b[38;5;124mX_train debe ser un pandas DataFrame.\u001b[39m\u001b[38;5;124m\"\u001b[39m)\n\u001b[1;32m      8\u001b[0m \u001b[38;5;66;03m# Asegúrate de que la columna categórica sea de tipo string\u001b[39;00m\n\u001b[1;32m      9\u001b[0m X_train[\u001b[38;5;124m'\u001b[39m\u001b[38;5;124mcategorical_column\u001b[39m\u001b[38;5;124m'\u001b[39m] \u001b[38;5;241m=\u001b[39m X_train[\u001b[38;5;124m'\u001b[39m\u001b[38;5;124mcategorical_column\u001b[39m\u001b[38;5;124m'\u001b[39m]\u001b[38;5;241m.\u001b[39mastype(\u001b[38;5;28mstr\u001b[39m)\n",
      "\u001b[0;31mValueError\u001b[0m: X_train debe ser un pandas DataFrame."
     ]
    }
   ],
   "source": [
    "from sklearn.preprocessing import OneHotEncoder, StandardScaler\n",
    "import pandas as pd\n",
    "\n",
    "# Verifica que X_train sea un DataFrame\n",
    "if not isinstance(X_train, pd.DataFrame):\n",
    "    raise ValueError(\"X_train debe ser un pandas DataFrame.\")\n",
    "\n",
    "# Asegúrate de que la columna categórica sea de tipo string\n",
    "X_train['categorical_column'] = X_train['categorical_column'].astype(str)\n",
    "\n",
    "# Configura y ajusta el OneHotEncoder\n",
    "encoder = OneHotEncoder(sparse_output=False)  # Asegúrate de usar sparse_output=False\n",
    "encoder.fit(X_train[['categorical_column']])\n",
    "\n",
    "# Codifica el nuevo ticket\n",
    "nuevo_ticket = [['value1']]  # Cambia 'value1' por el valor real de la categoría\n",
    "nuevo_ticket_encoded = encoder.transform(nuevo_ticket)\n",
    "\n",
    "# Opcional: aplica el escalado si es necesario\n",
    "scaler = StandardScaler()\n",
    "scaler.fit(X_train[['numeric_column']])  # Escala solo las columnas numéricas\n",
    "nuevo_ticket_scaled = scaler.transform(nuevo_ticket_encoded)\n",
    "\n",
    "# Haz predicciones con el modelo\n",
    "prediccion_nuevo_ticket = best_model_with_weights.predict(nuevo_ticket_encoded)\n",
    "print(prediccion_nuevo_ticket)\n"
   ]
  },
  {
   "cell_type": "code",
   "execution_count": 40,
   "id": "9f675d4e-6102-4356-a617-a34c4f4252d4",
   "metadata": {},
   "outputs": [
    {
     "ename": "AttributeError",
     "evalue": "'csr_matrix' object has no attribute 'head'",
     "output_type": "error",
     "traceback": [
      "\u001b[0;31m---------------------------------------------------------------------------\u001b[0m",
      "\u001b[0;31mAttributeError\u001b[0m                            Traceback (most recent call last)",
      "Cell \u001b[0;32mIn[40], line 1\u001b[0m\n\u001b[0;32m----> 1\u001b[0m \u001b[38;5;28mprint\u001b[39m(X_train\u001b[38;5;241m.\u001b[39mhead())\n\u001b[1;32m      2\u001b[0m \u001b[38;5;28mprint\u001b[39m(X_train\u001b[38;5;241m.\u001b[39minfo())\n",
      "\u001b[0;31mAttributeError\u001b[0m: 'csr_matrix' object has no attribute 'head'"
     ]
    }
   ],
   "source": [
    "print(X_train.head())\n",
    "print(X_train.info())\n"
   ]
  },
  {
   "cell_type": "code",
   "execution_count": 41,
   "id": "0913423e-fc57-49a8-bddc-ff502da547cb",
   "metadata": {},
   "outputs": [
    {
     "name": "stdout",
     "output_type": "stream",
     "text": [
      "<class 'scipy.sparse._csr.csr_matrix'>\n"
     ]
    }
   ],
   "source": [
    "print(type(X_train))\n",
    "if isinstance(X_train, np.ndarray):\n",
    "    print(X_train.shape)\n",
    "    print(X_train[:5])\n"
   ]
  },
  {
   "cell_type": "code",
   "execution_count": 43,
   "id": "3f6f68db-2edd-40fe-9c24-6b537012ddd0",
   "metadata": {},
   "outputs": [
    {
     "ename": "ValueError",
     "evalue": "Shape of passed values is (33984, 5000), indices imply (33984, 9)",
     "output_type": "error",
     "traceback": [
      "\u001b[0;31m---------------------------------------------------------------------------\u001b[0m",
      "\u001b[0;31mValueError\u001b[0m                                Traceback (most recent call last)",
      "Cell \u001b[0;32mIn[43], line 5\u001b[0m\n\u001b[1;32m      3\u001b[0m \u001b[38;5;66;03m# Suponiendo que tienes los nombres de las columnas\u001b[39;00m\n\u001b[1;32m      4\u001b[0m column_names \u001b[38;5;241m=\u001b[39m [\u001b[38;5;124m'\u001b[39m\u001b[38;5;124mtitle\u001b[39m\u001b[38;5;124m'\u001b[39m,\t\u001b[38;5;124m'\u001b[39m\u001b[38;5;124mbody\u001b[39m\u001b[38;5;124m'\u001b[39m,\t\u001b[38;5;124m'\u001b[39m\u001b[38;5;124mticket_type\u001b[39m\u001b[38;5;124m'\u001b[39m,\t\u001b[38;5;124m'\u001b[39m\u001b[38;5;124mcategory\u001b[39m\u001b[38;5;124m'\u001b[39m,\t\u001b[38;5;124m'\u001b[39m\u001b[38;5;124msub_category1\u001b[39m\u001b[38;5;124m'\u001b[39m, \u001b[38;5;124m'\u001b[39m\u001b[38;5;124msub_category2\u001b[39m\u001b[38;5;124m'\u001b[39m,\t\u001b[38;5;124m'\u001b[39m\u001b[38;5;124mbusiness_service\u001b[39m\u001b[38;5;124m'\u001b[39m,\t\u001b[38;5;124m'\u001b[39m\u001b[38;5;124murgency\u001b[39m\u001b[38;5;124m'\u001b[39m,\t\u001b[38;5;124m'\u001b[39m\u001b[38;5;124mimpact\u001b[39m\u001b[38;5;124m'\u001b[39m]  \u001b[38;5;66;03m# Ajusta los nombres\u001b[39;00m\n\u001b[0;32m----> 5\u001b[0m X_train_dense \u001b[38;5;241m=\u001b[39m pd\u001b[38;5;241m.\u001b[39mDataFrame(X_train\u001b[38;5;241m.\u001b[39mtoarray(), columns\u001b[38;5;241m=\u001b[39mcolumn_names)\n",
      "File \u001b[0;32m~/anaconda3/envs/base_clone/lib/python3.12/site-packages/pandas/core/frame.py:827\u001b[0m, in \u001b[0;36mDataFrame.__init__\u001b[0;34m(self, data, index, columns, dtype, copy)\u001b[0m\n\u001b[1;32m    816\u001b[0m         mgr \u001b[38;5;241m=\u001b[39m dict_to_mgr(\n\u001b[1;32m    817\u001b[0m             \u001b[38;5;66;03m# error: Item \"ndarray\" of \"Union[ndarray, Series, Index]\" has no\u001b[39;00m\n\u001b[1;32m    818\u001b[0m             \u001b[38;5;66;03m# attribute \"name\"\u001b[39;00m\n\u001b[0;32m   (...)\u001b[0m\n\u001b[1;32m    824\u001b[0m             copy\u001b[38;5;241m=\u001b[39m_copy,\n\u001b[1;32m    825\u001b[0m         )\n\u001b[1;32m    826\u001b[0m     \u001b[38;5;28;01melse\u001b[39;00m:\n\u001b[0;32m--> 827\u001b[0m         mgr \u001b[38;5;241m=\u001b[39m ndarray_to_mgr(\n\u001b[1;32m    828\u001b[0m             data,\n\u001b[1;32m    829\u001b[0m             index,\n\u001b[1;32m    830\u001b[0m             columns,\n\u001b[1;32m    831\u001b[0m             dtype\u001b[38;5;241m=\u001b[39mdtype,\n\u001b[1;32m    832\u001b[0m             copy\u001b[38;5;241m=\u001b[39mcopy,\n\u001b[1;32m    833\u001b[0m             typ\u001b[38;5;241m=\u001b[39mmanager,\n\u001b[1;32m    834\u001b[0m         )\n\u001b[1;32m    836\u001b[0m \u001b[38;5;66;03m# For data is list-like, or Iterable (will consume into list)\u001b[39;00m\n\u001b[1;32m    837\u001b[0m \u001b[38;5;28;01melif\u001b[39;00m is_list_like(data):\n",
      "File \u001b[0;32m~/anaconda3/envs/base_clone/lib/python3.12/site-packages/pandas/core/internals/construction.py:336\u001b[0m, in \u001b[0;36mndarray_to_mgr\u001b[0;34m(values, index, columns, dtype, copy, typ)\u001b[0m\n\u001b[1;32m    331\u001b[0m \u001b[38;5;66;03m# _prep_ndarraylike ensures that values.ndim == 2 at this point\u001b[39;00m\n\u001b[1;32m    332\u001b[0m index, columns \u001b[38;5;241m=\u001b[39m _get_axes(\n\u001b[1;32m    333\u001b[0m     values\u001b[38;5;241m.\u001b[39mshape[\u001b[38;5;241m0\u001b[39m], values\u001b[38;5;241m.\u001b[39mshape[\u001b[38;5;241m1\u001b[39m], index\u001b[38;5;241m=\u001b[39mindex, columns\u001b[38;5;241m=\u001b[39mcolumns\n\u001b[1;32m    334\u001b[0m )\n\u001b[0;32m--> 336\u001b[0m _check_values_indices_shape_match(values, index, columns)\n\u001b[1;32m    338\u001b[0m \u001b[38;5;28;01mif\u001b[39;00m typ \u001b[38;5;241m==\u001b[39m \u001b[38;5;124m\"\u001b[39m\u001b[38;5;124marray\u001b[39m\u001b[38;5;124m\"\u001b[39m:\n\u001b[1;32m    339\u001b[0m     \u001b[38;5;28;01mif\u001b[39;00m \u001b[38;5;28missubclass\u001b[39m(values\u001b[38;5;241m.\u001b[39mdtype\u001b[38;5;241m.\u001b[39mtype, \u001b[38;5;28mstr\u001b[39m):\n",
      "File \u001b[0;32m~/anaconda3/envs/base_clone/lib/python3.12/site-packages/pandas/core/internals/construction.py:420\u001b[0m, in \u001b[0;36m_check_values_indices_shape_match\u001b[0;34m(values, index, columns)\u001b[0m\n\u001b[1;32m    418\u001b[0m passed \u001b[38;5;241m=\u001b[39m values\u001b[38;5;241m.\u001b[39mshape\n\u001b[1;32m    419\u001b[0m implied \u001b[38;5;241m=\u001b[39m (\u001b[38;5;28mlen\u001b[39m(index), \u001b[38;5;28mlen\u001b[39m(columns))\n\u001b[0;32m--> 420\u001b[0m \u001b[38;5;28;01mraise\u001b[39;00m \u001b[38;5;167;01mValueError\u001b[39;00m(\u001b[38;5;124mf\u001b[39m\u001b[38;5;124m\"\u001b[39m\u001b[38;5;124mShape of passed values is \u001b[39m\u001b[38;5;132;01m{\u001b[39;00mpassed\u001b[38;5;132;01m}\u001b[39;00m\u001b[38;5;124m, indices imply \u001b[39m\u001b[38;5;132;01m{\u001b[39;00mimplied\u001b[38;5;132;01m}\u001b[39;00m\u001b[38;5;124m\"\u001b[39m)\n",
      "\u001b[0;31mValueError\u001b[0m: Shape of passed values is (33984, 5000), indices imply (33984, 9)"
     ]
    }
   ],
   "source": [
    "import pandas as pd\n",
    "\n",
    "# Suponiendo que tienes los nombres de las columnas\n",
    "column_names = ['title',\t'body',\t'ticket_type',\t'category',\t'sub_category1', 'sub_category2',\t'business_service',\t'urgency',\t'impact']  # Ajusta los nombres\n",
    "X_train_dense = pd.DataFrame(X_train.toarray(), columns=column_names)\n"
   ]
  },
  {
   "cell_type": "code",
   "execution_count": 44,
   "id": "616c146b-9004-4074-be77-d2d908784819",
   "metadata": {},
   "outputs": [
    {
     "ename": "NameError",
     "evalue": "name 'data' is not defined",
     "output_type": "error",
     "traceback": [
      "\u001b[0;31m---------------------------------------------------------------------------\u001b[0m",
      "\u001b[0;31mNameError\u001b[0m                                 Traceback (most recent call last)",
      "Cell \u001b[0;32mIn[44], line 3\u001b[0m\n\u001b[1;32m      1\u001b[0m \u001b[38;5;66;03m# Obtener nombres de columnas desde TfidfVectorizer\u001b[39;00m\n\u001b[1;32m      2\u001b[0m vectorizer \u001b[38;5;241m=\u001b[39m TfidfVectorizer()  \u001b[38;5;66;03m# Asegúrate de usar tu vectorizador original\u001b[39;00m\n\u001b[0;32m----> 3\u001b[0m vectorizer\u001b[38;5;241m.\u001b[39mfit(data)  \u001b[38;5;66;03m# Ajusta 'data' a tu conjunto original de texto\u001b[39;00m\n\u001b[1;32m      4\u001b[0m column_names \u001b[38;5;241m=\u001b[39m vectorizer\u001b[38;5;241m.\u001b[39mget_feature_names_out()\n\u001b[1;32m      6\u001b[0m \u001b[38;5;66;03m# Convertir matriz dispersa a DataFrame\u001b[39;00m\n",
      "\u001b[0;31mNameError\u001b[0m: name 'data' is not defined"
     ]
    }
   ],
   "source": [
    "# Obtener nombres de columnas desde TfidfVectorizer\n",
    "vectorizer = TfidfVectorizer()  # Asegúrate de usar tu vectorizador original\n",
    "vectorizer.fit(data)  # Ajusta 'data' a tu conjunto original de texto\n",
    "column_names = vectorizer.get_feature_names_out()\n",
    "\n",
    "# Convertir matriz dispersa a DataFrame\n",
    "X_train_dense = pd.DataFrame(X_train.toarray(), columns=column_names)\n"
   ]
  },
  {
   "cell_type": "code",
   "execution_count": 45,
   "id": "54cd18d9-229f-4b49-9360-cd13e95b2955",
   "metadata": {},
   "outputs": [
    {
     "ename": "NotFittedError",
     "evalue": "Vocabulary not fitted or provided",
     "output_type": "error",
     "traceback": [
      "\u001b[0;31m---------------------------------------------------------------------------\u001b[0m",
      "\u001b[0;31mNotFittedError\u001b[0m                            Traceback (most recent call last)",
      "Cell \u001b[0;32mIn[45], line 2\u001b[0m\n\u001b[1;32m      1\u001b[0m \u001b[38;5;66;03m# Extraer nombres de las características del vectorizador\u001b[39;00m\n\u001b[0;32m----> 2\u001b[0m feature_names \u001b[38;5;241m=\u001b[39m vectorizer\u001b[38;5;241m.\u001b[39mget_feature_names_out()\n",
      "File \u001b[0;32m~/anaconda3/envs/base_clone/lib/python3.12/site-packages/sklearn/feature_extraction/text.py:1485\u001b[0m, in \u001b[0;36mCountVectorizer.get_feature_names_out\u001b[0;34m(self, input_features)\u001b[0m\n\u001b[1;32m   1472\u001b[0m \u001b[38;5;28;01mdef\u001b[39;00m \u001b[38;5;21mget_feature_names_out\u001b[39m(\u001b[38;5;28mself\u001b[39m, input_features\u001b[38;5;241m=\u001b[39m\u001b[38;5;28;01mNone\u001b[39;00m):\n\u001b[1;32m   1473\u001b[0m \u001b[38;5;250m    \u001b[39m\u001b[38;5;124;03m\"\"\"Get output feature names for transformation.\u001b[39;00m\n\u001b[1;32m   1474\u001b[0m \n\u001b[1;32m   1475\u001b[0m \u001b[38;5;124;03m    Parameters\u001b[39;00m\n\u001b[0;32m   (...)\u001b[0m\n\u001b[1;32m   1483\u001b[0m \u001b[38;5;124;03m        Transformed feature names.\u001b[39;00m\n\u001b[1;32m   1484\u001b[0m \u001b[38;5;124;03m    \"\"\"\u001b[39;00m\n\u001b[0;32m-> 1485\u001b[0m     \u001b[38;5;28mself\u001b[39m\u001b[38;5;241m.\u001b[39m_check_vocabulary()\n\u001b[1;32m   1486\u001b[0m     \u001b[38;5;28;01mreturn\u001b[39;00m np\u001b[38;5;241m.\u001b[39masarray(\n\u001b[1;32m   1487\u001b[0m         [t \u001b[38;5;28;01mfor\u001b[39;00m t, i \u001b[38;5;129;01min\u001b[39;00m \u001b[38;5;28msorted\u001b[39m(\u001b[38;5;28mself\u001b[39m\u001b[38;5;241m.\u001b[39mvocabulary_\u001b[38;5;241m.\u001b[39mitems(), key\u001b[38;5;241m=\u001b[39mitemgetter(\u001b[38;5;241m1\u001b[39m))],\n\u001b[1;32m   1488\u001b[0m         dtype\u001b[38;5;241m=\u001b[39m\u001b[38;5;28mobject\u001b[39m,\n\u001b[1;32m   1489\u001b[0m     )\n",
      "File \u001b[0;32m~/anaconda3/envs/base_clone/lib/python3.12/site-packages/sklearn/feature_extraction/text.py:508\u001b[0m, in \u001b[0;36m_VectorizerMixin._check_vocabulary\u001b[0;34m(self)\u001b[0m\n\u001b[1;32m    506\u001b[0m     \u001b[38;5;28mself\u001b[39m\u001b[38;5;241m.\u001b[39m_validate_vocabulary()\n\u001b[1;32m    507\u001b[0m     \u001b[38;5;28;01mif\u001b[39;00m \u001b[38;5;129;01mnot\u001b[39;00m \u001b[38;5;28mself\u001b[39m\u001b[38;5;241m.\u001b[39mfixed_vocabulary_:\n\u001b[0;32m--> 508\u001b[0m         \u001b[38;5;28;01mraise\u001b[39;00m NotFittedError(\u001b[38;5;124m\"\u001b[39m\u001b[38;5;124mVocabulary not fitted or provided\u001b[39m\u001b[38;5;124m\"\u001b[39m)\n\u001b[1;32m    510\u001b[0m \u001b[38;5;28;01mif\u001b[39;00m \u001b[38;5;28mlen\u001b[39m(\u001b[38;5;28mself\u001b[39m\u001b[38;5;241m.\u001b[39mvocabulary_) \u001b[38;5;241m==\u001b[39m \u001b[38;5;241m0\u001b[39m:\n\u001b[1;32m    511\u001b[0m     \u001b[38;5;28;01mraise\u001b[39;00m \u001b[38;5;167;01mValueError\u001b[39;00m(\u001b[38;5;124m\"\u001b[39m\u001b[38;5;124mVocabulary is empty\u001b[39m\u001b[38;5;124m\"\u001b[39m)\n",
      "\u001b[0;31mNotFittedError\u001b[0m: Vocabulary not fitted or provided"
     ]
    }
   ],
   "source": [
    "# Extraer nombres de las características del vectorizador\n",
    "feature_names = vectorizer.get_feature_names_out()\n"
   ]
  },
  {
   "cell_type": "code",
   "execution_count": null,
   "id": "501d3738-464f-4697-9bc0-d156f286de9f",
   "metadata": {},
   "outputs": [],
   "source": []
  }
 ],
 "metadata": {
  "kernelspec": {
   "display_name": "Python 3 (ipykernel)",
   "language": "python",
   "name": "python3"
  },
  "language_info": {
   "codemirror_mode": {
    "name": "ipython",
    "version": 3
   },
   "file_extension": ".py",
   "mimetype": "text/x-python",
   "name": "python",
   "nbconvert_exporter": "python",
   "pygments_lexer": "ipython3",
   "version": "3.12.4"
  }
 },
 "nbformat": 4,
 "nbformat_minor": 5
}
